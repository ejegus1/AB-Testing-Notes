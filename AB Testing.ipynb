{
 "cells": [
  {
   "cell_type": "code",
   "execution_count": 2,
   "id": "760151d2",
   "metadata": {},
   "outputs": [],
   "source": [
    "import pandas as pd\n",
    "import numpy as np\n",
    "import seaborn as sns\n",
    "import matplotlib.pyplot as plt\n",
    "\n",
    "checkout = pd.read_csv(r'//Users//EJEGUS//Desktop//AB Testing DataCamp//checkout.csv')"
   ]
  },
  {
   "cell_type": "code",
   "execution_count": 3,
   "id": "807bf611",
   "metadata": {},
   "outputs": [
    {
     "data": {
      "text/html": [
       "<div>\n",
       "<style scoped>\n",
       "    .dataframe tbody tr th:only-of-type {\n",
       "        vertical-align: middle;\n",
       "    }\n",
       "\n",
       "    .dataframe tbody tr th {\n",
       "        vertical-align: top;\n",
       "    }\n",
       "\n",
       "    .dataframe thead th {\n",
       "        text-align: right;\n",
       "    }\n",
       "</style>\n",
       "<table border=\"1\" class=\"dataframe\">\n",
       "  <thead>\n",
       "    <tr style=\"text-align: right;\">\n",
       "      <th></th>\n",
       "      <th>Unnamed: 0</th>\n",
       "      <th>user_id</th>\n",
       "      <th>checkout_page</th>\n",
       "      <th>order_value</th>\n",
       "      <th>purchased</th>\n",
       "      <th>gender</th>\n",
       "      <th>browser</th>\n",
       "      <th>time_on_page</th>\n",
       "    </tr>\n",
       "  </thead>\n",
       "  <tbody>\n",
       "    <tr>\n",
       "      <th>0</th>\n",
       "      <td>0</td>\n",
       "      <td>877621</td>\n",
       "      <td>A</td>\n",
       "      <td>29.410131</td>\n",
       "      <td>1</td>\n",
       "      <td>F</td>\n",
       "      <td>chrome</td>\n",
       "      <td>66.168628</td>\n",
       "    </tr>\n",
       "    <tr>\n",
       "      <th>1</th>\n",
       "      <td>1</td>\n",
       "      <td>876599</td>\n",
       "      <td>A</td>\n",
       "      <td>NaN</td>\n",
       "      <td>0</td>\n",
       "      <td>M</td>\n",
       "      <td>firefox</td>\n",
       "      <td>49.801887</td>\n",
       "    </tr>\n",
       "    <tr>\n",
       "      <th>2</th>\n",
       "      <td>2</td>\n",
       "      <td>905407</td>\n",
       "      <td>A</td>\n",
       "      <td>27.446845</td>\n",
       "      <td>1</td>\n",
       "      <td>M</td>\n",
       "      <td>chrome</td>\n",
       "      <td>56.744856</td>\n",
       "    </tr>\n",
       "    <tr>\n",
       "      <th>3</th>\n",
       "      <td>3</td>\n",
       "      <td>883562</td>\n",
       "      <td>A</td>\n",
       "      <td>30.602233</td>\n",
       "      <td>1</td>\n",
       "      <td>M</td>\n",
       "      <td>safari</td>\n",
       "      <td>71.890718</td>\n",
       "    </tr>\n",
       "    <tr>\n",
       "      <th>4</th>\n",
       "      <td>4</td>\n",
       "      <td>840542</td>\n",
       "      <td>A</td>\n",
       "      <td>29.668895</td>\n",
       "      <td>1</td>\n",
       "      <td>F</td>\n",
       "      <td>safari</td>\n",
       "      <td>67.410696</td>\n",
       "    </tr>\n",
       "    <tr>\n",
       "      <th>...</th>\n",
       "      <td>...</td>\n",
       "      <td>...</td>\n",
       "      <td>...</td>\n",
       "      <td>...</td>\n",
       "      <td>...</td>\n",
       "      <td>...</td>\n",
       "      <td>...</td>\n",
       "      <td>...</td>\n",
       "    </tr>\n",
       "    <tr>\n",
       "      <th>8995</th>\n",
       "      <td>8995</td>\n",
       "      <td>903591</td>\n",
       "      <td>C</td>\n",
       "      <td>45.395883</td>\n",
       "      <td>1</td>\n",
       "      <td>M</td>\n",
       "      <td>safari</td>\n",
       "      <td>63.291767</td>\n",
       "    </tr>\n",
       "    <tr>\n",
       "      <th>8996</th>\n",
       "      <td>8996</td>\n",
       "      <td>883490</td>\n",
       "      <td>C</td>\n",
       "      <td>30.462670</td>\n",
       "      <td>1</td>\n",
       "      <td>F</td>\n",
       "      <td>safari</td>\n",
       "      <td>33.425340</td>\n",
       "    </tr>\n",
       "    <tr>\n",
       "      <th>8997</th>\n",
       "      <td>8997</td>\n",
       "      <td>914494</td>\n",
       "      <td>C</td>\n",
       "      <td>34.037979</td>\n",
       "      <td>1</td>\n",
       "      <td>M</td>\n",
       "      <td>chrome</td>\n",
       "      <td>40.575958</td>\n",
       "    </tr>\n",
       "    <tr>\n",
       "      <th>8998</th>\n",
       "      <td>8998</td>\n",
       "      <td>897280</td>\n",
       "      <td>C</td>\n",
       "      <td>28.937421</td>\n",
       "      <td>1</td>\n",
       "      <td>F</td>\n",
       "      <td>chrome</td>\n",
       "      <td>30.374843</td>\n",
       "    </tr>\n",
       "    <tr>\n",
       "      <th>8999</th>\n",
       "      <td>8999</td>\n",
       "      <td>846258</td>\n",
       "      <td>C</td>\n",
       "      <td>NaN</td>\n",
       "      <td>0</td>\n",
       "      <td>M</td>\n",
       "      <td>safari</td>\n",
       "      <td>41.694015</td>\n",
       "    </tr>\n",
       "  </tbody>\n",
       "</table>\n",
       "<p>9000 rows × 8 columns</p>\n",
       "</div>"
      ],
      "text/plain": [
       "      Unnamed: 0  user_id checkout_page  order_value  purchased gender  \\\n",
       "0              0   877621             A    29.410131          1      F   \n",
       "1              1   876599             A          NaN          0      M   \n",
       "2              2   905407             A    27.446845          1      M   \n",
       "3              3   883562             A    30.602233          1      M   \n",
       "4              4   840542             A    29.668895          1      F   \n",
       "...          ...      ...           ...          ...        ...    ...   \n",
       "8995        8995   903591             C    45.395883          1      M   \n",
       "8996        8996   883490             C    30.462670          1      F   \n",
       "8997        8997   914494             C    34.037979          1      M   \n",
       "8998        8998   897280             C    28.937421          1      F   \n",
       "8999        8999   846258             C          NaN          0      M   \n",
       "\n",
       "      browser  time_on_page  \n",
       "0      chrome     66.168628  \n",
       "1     firefox     49.801887  \n",
       "2      chrome     56.744856  \n",
       "3      safari     71.890718  \n",
       "4      safari     67.410696  \n",
       "...       ...           ...  \n",
       "8995   safari     63.291767  \n",
       "8996   safari     33.425340  \n",
       "8997   chrome     40.575958  \n",
       "8998   chrome     30.374843  \n",
       "8999   safari     41.694015  \n",
       "\n",
       "[9000 rows x 8 columns]"
      ]
     },
     "execution_count": 3,
     "metadata": {},
     "output_type": "execute_result"
    }
   ],
   "source": [
    "checkout"
   ]
  },
  {
   "cell_type": "markdown",
   "id": "c6fcf2b8",
   "metadata": {},
   "source": [
    "## Central limit theorem for means"
   ]
  },
  {
   "cell_type": "markdown",
   "id": "30607960",
   "metadata": {},
   "source": [
    "Central limit theorem for means: The Central Limit Theorem states that, given a sufficiently large sample size, the distribution of the sample means will approximate a normal (Gaussian) distribution, regardless of the shape of the population distribution from which the samples are drawn. This approximation becomes more accurate as the sample size increases."
   ]
  },
  {
   "cell_type": "markdown",
   "id": "f6980be1",
   "metadata": {},
   "source": [
    "Create a displot select that the correct shape of the distribution of the order_value column filtered on checkout_page 'A'."
   ]
  },
  {
   "cell_type": "code",
   "execution_count": 9,
   "id": "7d80a1ad",
   "metadata": {},
   "outputs": [],
   "source": [
    "order_value2 = checkout[checkout['checkout_page'] == 'A'][['order_value']]"
   ]
  },
  {
   "cell_type": "code",
   "execution_count": 11,
   "id": "834d408f",
   "metadata": {},
   "outputs": [
    {
     "data": {
      "text/plain": [
       "<seaborn.axisgrid.FacetGrid at 0x10caca780>"
      ]
     },
     "execution_count": 11,
     "metadata": {},
     "output_type": "execute_result"
    },
    {
     "data": {
      "image/png": "[encoded data removed]",
      "text/plain": [
       "<Figure size 632.125x500 with 1 Axes>"
      ]
     },
     "metadata": {},
     "output_type": "display_data"
    }
   ],
   "source": [
    "import seaborn as sns\n",
    "sns.displot(order_value2)\n",
    "# normal distribution with an avg = 25"
   ]
  },
  {
   "cell_type": "code",
   "execution_count": 12,
   "id": "4db16ea5",
   "metadata": {},
   "outputs": [],
   "source": [
    "np.random.seed(47)\n",
    "\n",
    "# Create an empty list, then a for loop for 1000 samples of size 5\n",
    "sampled_means = []\n",
    "\n",
    "for i in range(100):\n",
    "    sample = checkout[checkout['checkout_page']=='A']['order_value'].sample(5, replace=True)\n",
    "    sampled_means.append(sample.mean())"
   ]
  },
  {
   "cell_type": "code",
   "execution_count": 15,
   "id": "a78718fc",
   "metadata": {},
   "outputs": [
    {
     "data": {
      "text/plain": [
       "2520    25.255446\n",
       "536           NaN\n",
       "630     23.281752\n",
       "2373    22.238275\n",
       "1920    28.476335\n",
       "Name: order_value, dtype: float64"
      ]
     },
     "execution_count": 15,
     "metadata": {},
     "output_type": "execute_result"
    }
   ],
   "source": [
    "sample"
   ]
  },
  {
   "cell_type": "markdown",
   "id": "62b12226",
   "metadata": {},
   "source": [
    "Let's break down the solution to understand how it addresses the exercise requirements:\n",
    "\n",
    "Setting the Random Seed:\n",
    "\n",
    "np.random.seed(47)\n",
    "This line sets the random seed to 47. Setting a seed ensures that the random sampling is reproducible, meaning that every time you run the code, you will get the same random samples. This is useful for debugging and consistency in results.\n",
    "\n",
    "Creating an Empty List:\n",
    "\n",
    "sampled_means = []\n",
    "Here, we initialize an empty list called sampled_means. This list will be used to store the means of the samples we take.\n",
    "\n",
    "For Loop for Sampling:\n",
    "\n",
    "for i in range(1000):\n",
    "This line starts a for loop that will iterate 1000 times. Each iteration represents one sample of size 5.\n",
    "\n",
    "Taking a Sample with Replacement:\n",
    "\n",
    "sample = checkout[checkout['checkout_page']=='A']['order_value'].sample(5, replace=True)\n",
    "Inside the loop, we take a sample of size 5 from the order_value column of the checkout DataFrame, but only for rows where the checkout_page is 'A'. The sample method is used with the replace=True argument, which means sampling is done with replacement. This allows the same data point to be picked more than once in a single sample.\n",
    "\n",
    "Storing the Sample Mean: Although not explicitly shown in the provided solution, the next logical step would be to calculate the mean of the sample and append it to the sampled_means list. This step is implied but not included in the provided code snippet. It would look something like this:\n",
    "\n",
    "sampled_means.append(sample.mean())\n",
    "By following these steps, the solution successfully simulates the means taken from 1000 samples of size 5 each with replacement and stores the results in the sampled_means list. This meets the exercise's requirements."
   ]
  },
  {
   "cell_type": "code",
   "execution_count": 18,
   "id": "e780e129",
   "metadata": {},
   "outputs": [],
   "source": [
    "sampled_means.append(sample.mean())"
   ]
  },
  {
   "cell_type": "code",
   "execution_count": 20,
   "id": "4d5c4640",
   "metadata": {},
   "outputs": [
    {
     "data": {
      "text/plain": [
       "[24.368656638,\n",
       " 23.97348537666667,\n",
       " 24.446736008000002,\n",
       " 24.643636763333333,\n",
       " 27.7230573525,\n",
       " 25.1932357075,\n",
       " 26.731092942500002,\n",
       " 27.380293786000003,\n",
       " 26.960652458,\n",
       " 22.61989711,\n",
       " 23.63254396,\n",
       " 24.118097706666664,\n",
       " 24.130113935,\n",
       " 23.7278987125,\n",
       " 26.032896806666667,\n",
       " 24.6640298425,\n",
       " 25.162435164000005,\n",
       " 25.0358176275,\n",
       " 23.149914067999998,\n",
       " 24.39390022,\n",
       " 23.0206994175,\n",
       " 25.70922702,\n",
       " 24.275515555,\n",
       " 24.9147483025,\n",
       " 24.79090712,\n",
       " 24.1000762525,\n",
       " 23.04879802,\n",
       " 23.6692589525,\n",
       " 22.7887066275,\n",
       " 25.257645462499998,\n",
       " 24.9667078,\n",
       " 27.5612971675,\n",
       " 25.254928758,\n",
       " 24.998408579999996,\n",
       " 24.99481307,\n",
       " 25.822135364,\n",
       " 25.13037484,\n",
       " 25.348278435,\n",
       " 25.269774264999995,\n",
       " 23.858284948,\n",
       " 25.418968008,\n",
       " 22.3463376675,\n",
       " 25.308026789999996,\n",
       " 26.617438593333333,\n",
       " 27.217908483333332,\n",
       " 25.79271399,\n",
       " 23.951951846666663,\n",
       " 22.836962046,\n",
       " 25.97394357,\n",
       " 24.5264077325,\n",
       " 24.900000830000003,\n",
       " 25.7737935425,\n",
       " 24.4211288875,\n",
       " 23.993469352,\n",
       " 24.37833687,\n",
       " 24.143654582000003,\n",
       " 24.462565242,\n",
       " 27.61471896,\n",
       " 25.363735622,\n",
       " 25.137278484,\n",
       " 25.224091205999997,\n",
       " 24.0768951775,\n",
       " 25.7043378175,\n",
       " 25.658418083333334,\n",
       " 22.834759672,\n",
       " 25.093237328,\n",
       " 26.790156453333335,\n",
       " 23.492931858000002,\n",
       " 24.285862517499996,\n",
       " 26.58009126,\n",
       " 25.98338928,\n",
       " 24.225907946666666,\n",
       " 24.476332504000002,\n",
       " 27.368881043333335,\n",
       " 26.2414583475,\n",
       " 22.318223598000003,\n",
       " 25.809546477999998,\n",
       " 24.617756890000003,\n",
       " 26.319311092499998,\n",
       " 25.347279883333332,\n",
       " 25.590359270000004,\n",
       " 24.563479187499997,\n",
       " 24.692625487999997,\n",
       " 24.913503395,\n",
       " 26.090347576,\n",
       " 24.193174344,\n",
       " 25.12656189666667,\n",
       " 27.46377658,\n",
       " 25.354026374,\n",
       " 24.755853276,\n",
       " 26.666573616666668,\n",
       " 24.212210320000004,\n",
       " 24.113673430000002,\n",
       " 27.153268475,\n",
       " 26.858249094999998,\n",
       " 24.586423652,\n",
       " 23.989560268,\n",
       " 25.811998661999997,\n",
       " 26.94809773,\n",
       " 24.812951945000002,\n",
       " 24.812951945000002]"
      ]
     },
     "execution_count": 20,
     "metadata": {},
     "output_type": "execute_result"
    }
   ],
   "source": [
    "sampled_means"
   ]
  },
  {
   "cell_type": "code",
   "execution_count": 22,
   "id": "092ad92c",
   "metadata": {},
   "outputs": [
    {
     "data": {
      "text/plain": [
       "25.03175103172772"
      ]
     },
     "execution_count": 22,
     "metadata": {},
     "output_type": "execute_result"
    }
   ],
   "source": [
    "# the bigger the sample size the closer we get to the true mean which is 25\n",
    "np.mean(sampled_means)"
   ]
  },
  {
   "cell_type": "markdown",
   "id": "c38beef6",
   "metadata": {},
   "source": [
    "Plot the distribution of the sampled_means list."
   ]
  },
  {
   "cell_type": "code",
   "execution_count": 25,
   "id": "8a4f71d6",
   "metadata": {},
   "outputs": [
    {
     "data": {
      "text/plain": [
       "<seaborn.axisgrid.FacetGrid at 0x311d42d50>"
      ]
     },
     "execution_count": 25,
     "metadata": {},
     "output_type": "execute_result"
    },
    {
     "data": {
      "image/png": "[encoded data removed]",
      "text/plain": [
       "<Figure size 500x500 with 1 Axes>"
      ]
     },
     "metadata": {},
     "output_type": "display_data"
    }
   ],
   "source": [
    "sns.displot(sampled_means)"
   ]
  },
  {
   "cell_type": "markdown",
   "id": "fb34afb2",
   "metadata": {},
   "source": [
    "Excellent work! Note how even for a small sample size of five, the sampling distribution of the means still resembles a normal one since the underlying data is already normally distributed."
   ]
  },
  {
   "cell_type": "markdown",
   "id": "08b01e24",
   "metadata": {},
   "source": [
    "## Plotting power curves"
   ]
  },
  {
   "cell_type": "markdown",
   "id": "f2f6f398",
   "metadata": {},
   "source": [
    "Performing a power analysis prior to running an A/B test is one of the most important steps.\n",
    "It enables us to improve our chances of reaching conclusive results and better plan for resources and time allocated to each test. Moreover, plotting power curves makes it easier to visualize the impact of varying certain parameters on the required sample size to hit the desired levels of confidence. Although a larger sample size betters our chances of reaching a conclusive result, gathering additional units or spending more time is a waste of resources as the power curves saturate.\n",
    "\n",
    "Practical Usage\n",
    "Determining Sample Size: This plot helps researchers determine the sample size needed to achieve a desired level of power for detecting a specific effect size. For instance, if a researcher wants to achieve a power of 0.8 for detecting an effect size of 0.2, they can look at the plot to find the minimum sample size required.\n",
    "Planning Studies: It is useful in the planning phase of studies to ensure that they are adequately powered to detect the expected effects, reducing the risk of Type II errors (failing to detect a true effect)."
   ]
  },
  {
   "cell_type": "code",
   "execution_count": 30,
   "id": "5f5e51ff",
   "metadata": {},
   "outputs": [],
   "source": [
    "# Create NumPy arrays for the sample_sizes ranging from 10 to 600, and effect_sizes of 0.1, 0.2, and 0.3.\n",
    "sample_sizes = np.array(range(10,600))\n",
    "effect_sizes = np.array([0.1, 0.2, 0.3])\n"
   ]
  },
  {
   "cell_type": "code",
   "execution_count": 32,
   "id": "fec49e4c",
   "metadata": {},
   "outputs": [],
   "source": [
    "from statsmodels.stats.power import TTestIndPower"
   ]
  },
  {
   "cell_type": "code",
   "execution_count": 34,
   "id": "9044fb83",
   "metadata": {},
   "outputs": [
    {
     "data": {
      "text/plain": [
       "<matplotlib.lines.Line2D at 0x16ff13710>"
      ]
     },
     "execution_count": 34,
     "metadata": {},
     "output_type": "execute_result"
    },
    {
     "data": {
      "image/png": "[encoded data removed]",
      "text/plain": [
       "<Figure size 640x480 with 1 Axes>"
      ]
     },
     "metadata": {},
     "output_type": "display_data"
    }
   ],
   "source": [
    "fig, ax = plt.subplots()\n",
    "TTestIndPower().plot_power(ax=ax, nobs=sample_sizes, effect_size=effect_sizes)\n",
    "ax.axhline(y=0.8, color='green', linestyle='--')\n"
   ]
  },
  {
   "cell_type": "markdown",
   "id": "aaa29edc",
   "metadata": {},
   "source": [
    "Adjust the NumPy arrays for the sample_sizes ranging from 10 to 2000, and effect_sizes of 0.1, 0.2, and 0.3."
   ]
  },
  {
   "cell_type": "code",
   "execution_count": 37,
   "id": "4436bd3e",
   "metadata": {},
   "outputs": [
    {
     "data": {
      "image/png": "[encoded data removed]",
      "text/plain": [
       "<Figure size 640x480 with 1 Axes>"
      ]
     },
     "metadata": {},
     "output_type": "display_data"
    }
   ],
   "source": [
    "# Adjust the parameters for power analysis\n",
    "sample_sizes = np.array(range(10,2000))\n",
    "effect_sizes = np.array([0.1, 0.2, 0.3])\n",
    "\n",
    "# Plot power curves\n",
    "TTestIndPower().plot_power(nobs=sample_sizes, effect_size=effect_sizes)\n",
    "#ax.axhline(y=0.8, color='green', linestyle='--')\n",
    "plt.show()"
   ]
  },
  {
   "cell_type": "markdown",
   "id": "b5ad92d4",
   "metadata": {},
   "source": [
    "When designing an A/B test, you as a Data Scientist are responsible for checking if a test is feasible in the first place. This entails answering several questions such as: do we have enough traffic? How do we quantify \"enough\"? What is the minimum difference we can detect given the sample size we have? How long does an experiment need to run? And more.\n",
    "\n",
    "In this exercise, you will calculate the minimum sample size required to capture a statistically significant difference of a certain value between the baseline mean order_value for the control group, and a new design to be tested.pandas, numpy,matplotlib, seaborn libraries and the checkout DataFrame are already imported and loaded for you, as well as power from statsmodels.stats."
   ]
  },
  {
   "cell_type": "code",
   "execution_count": 40,
   "id": "0814bf3a",
   "metadata": {},
   "outputs": [
    {
     "data": {
      "text/html": [
       "<div>\n",
       "<style scoped>\n",
       "    .dataframe tbody tr th:only-of-type {\n",
       "        vertical-align: middle;\n",
       "    }\n",
       "\n",
       "    .dataframe tbody tr th {\n",
       "        vertical-align: top;\n",
       "    }\n",
       "\n",
       "    .dataframe thead th {\n",
       "        text-align: right;\n",
       "    }\n",
       "</style>\n",
       "<table border=\"1\" class=\"dataframe\">\n",
       "  <thead>\n",
       "    <tr style=\"text-align: right;\">\n",
       "      <th></th>\n",
       "      <th>Unnamed: 0</th>\n",
       "      <th>user_id</th>\n",
       "      <th>checkout_page</th>\n",
       "      <th>order_value</th>\n",
       "      <th>purchased</th>\n",
       "      <th>gender</th>\n",
       "      <th>browser</th>\n",
       "      <th>time_on_page</th>\n",
       "    </tr>\n",
       "  </thead>\n",
       "  <tbody>\n",
       "    <tr>\n",
       "      <th>0</th>\n",
       "      <td>0</td>\n",
       "      <td>877621</td>\n",
       "      <td>A</td>\n",
       "      <td>29.410131</td>\n",
       "      <td>1</td>\n",
       "      <td>F</td>\n",
       "      <td>chrome</td>\n",
       "      <td>66.168628</td>\n",
       "    </tr>\n",
       "    <tr>\n",
       "      <th>1</th>\n",
       "      <td>1</td>\n",
       "      <td>876599</td>\n",
       "      <td>A</td>\n",
       "      <td>NaN</td>\n",
       "      <td>0</td>\n",
       "      <td>M</td>\n",
       "      <td>firefox</td>\n",
       "      <td>49.801887</td>\n",
       "    </tr>\n",
       "    <tr>\n",
       "      <th>2</th>\n",
       "      <td>2</td>\n",
       "      <td>905407</td>\n",
       "      <td>A</td>\n",
       "      <td>27.446845</td>\n",
       "      <td>1</td>\n",
       "      <td>M</td>\n",
       "      <td>chrome</td>\n",
       "      <td>56.744856</td>\n",
       "    </tr>\n",
       "    <tr>\n",
       "      <th>3</th>\n",
       "      <td>3</td>\n",
       "      <td>883562</td>\n",
       "      <td>A</td>\n",
       "      <td>30.602233</td>\n",
       "      <td>1</td>\n",
       "      <td>M</td>\n",
       "      <td>safari</td>\n",
       "      <td>71.890718</td>\n",
       "    </tr>\n",
       "    <tr>\n",
       "      <th>4</th>\n",
       "      <td>4</td>\n",
       "      <td>840542</td>\n",
       "      <td>A</td>\n",
       "      <td>29.668895</td>\n",
       "      <td>1</td>\n",
       "      <td>F</td>\n",
       "      <td>safari</td>\n",
       "      <td>67.410696</td>\n",
       "    </tr>\n",
       "  </tbody>\n",
       "</table>\n",
       "</div>"
      ],
      "text/plain": [
       "   Unnamed: 0  user_id checkout_page  order_value  purchased gender  browser  \\\n",
       "0           0   877621             A    29.410131          1      F   chrome   \n",
       "1           1   876599             A          NaN          0      M  firefox   \n",
       "2           2   905407             A    27.446845          1      M   chrome   \n",
       "3           3   883562             A    30.602233          1      M   safari   \n",
       "4           4   840542             A    29.668895          1      F   safari   \n",
       "\n",
       "   time_on_page  \n",
       "0     66.168628  \n",
       "1     49.801887  \n",
       "2     56.744856  \n",
       "3     71.890718  \n",
       "4     67.410696  "
      ]
     },
     "execution_count": 40,
     "metadata": {},
     "output_type": "execute_result"
    }
   ],
   "source": [
    "checkout.head()"
   ]
  },
  {
   "cell_type": "code",
   "execution_count": 42,
   "id": "68f82ff6",
   "metadata": {},
   "outputs": [
    {
     "name": "stdout",
     "output_type": "stream",
     "text": [
      "29.87620233154742\n",
      "7.277644184742467\n"
     ]
    }
   ],
   "source": [
    "# Calculate the mean and standard deviation of order_value column of checkout_page 'B'.\n",
    "\n",
    "mean_B = checkout[checkout['checkout_page'] == 'B']['order_value'].mean()\n",
    "print(mean_B)\n",
    "\n",
    "std_B = checkout[checkout['checkout_page'] == 'B']['order_value'].std()\n",
    "print(std_B)"
   ]
  },
  {
   "cell_type": "markdown",
   "id": "20e982da",
   "metadata": {},
   "source": [
    "Assign the mean_new value of $31 as our practical significance level and use the formula shown in the video for calculating the standard effect size for means."
   ]
  },
  {
   "cell_type": "code",
   "execution_count": 45,
   "id": "bca8a5be",
   "metadata": {},
   "outputs": [
    {
     "name": "stdout",
     "output_type": "stream",
     "text": [
      "0.15441778134861453\n"
     ]
    }
   ],
   "source": [
    "# Define mean_new and calculate the standardized effect size\n",
    "mean_new = 31\n",
    "\n",
    "std_effect_size = (mean_new-mean_B)/std_B\n",
    "print(std_effect_size)\n"
   ]
  },
  {
   "cell_type": "markdown",
   "id": "16e56996",
   "metadata": {},
   "source": [
    "Calculate the required sample size per group given the default parameters for power and significance level."
   ]
  },
  {
   "cell_type": "code",
   "execution_count": 48,
   "id": "04e0485e",
   "metadata": {},
   "outputs": [
    {
     "name": "stdout",
     "output_type": "stream",
     "text": [
      "659.2892380748207\n"
     ]
    }
   ],
   "source": [
    "# Calculate the required sample size\n",
    "# Import t-test power package\n",
    "from statsmodels.stats.power import TTestIndPower\n",
    "from statsmodels.stats import power\n",
    "\n",
    "sample_size = power.TTestIndPower().solve_power(effect_size=std_effect_size, power=.80, alpha=.05, nobs1=None)\n",
    "\n",
    "print(sample_size)"
   ]
  },
  {
   "cell_type": "markdown",
   "id": "e1176cc1",
   "metadata": {},
   "source": [
    "Remarkable job! 660 is the approximate sample size needed per group to at least capture a difference of a dollar between the baseline group and the new page design if the new design actually has that effect or larger."
   ]
  },
  {
   "cell_type": "markdown",
   "id": "599dd536",
   "metadata": {},
   "source": [
    "Why You Need This Code:\n",
    "Effect Size:\n",
    "\n",
    "The effect size (std_effect_size) is a measure of the magnitude of the difference you expect or hope to detect between the two groups.\n",
    "The code uses this effect size to determine how many observations are needed to reliably detect this difference.\n",
    "Power and Alpha:\n",
    "\n",
    "The power parameter is set to 0.80, indicating an 80% chance of detecting the effect if it exists.\n",
    "The alpha parameter is set to 0.05, controlling the Type I error rate.\n",
    "Solving for Sample Size:\n",
    "\n",
    "The solve_power method calculates the total sample size needed to achieve the specified power and significance level for the given effect size.\n",
    "This ensures your test is designed to detect meaningful effects while controlling for Type I and Type II errors.\n",
    "In Summary:\n",
    "Simply setting \n",
    "𝛼\n",
    "=\n",
    "0.05\n",
    "α=0.05 defines the threshold for statistical significance but does not ensure that your test has enough power to detect an effect. The code calculates the necessary sample size to achieve adequate power, ensuring that your test is both statistically and practically valid. This step is essential for making reliable conclusions from your A/B test."
   ]
  },
  {
   "cell_type": "markdown",
   "id": "d297767c",
   "metadata": {},
   "source": [
    "## Multiple Comparisons Test"
   ]
  },
  {
   "cell_type": "markdown",
   "id": "0d9d0d88",
   "metadata": {},
   "source": [
    "Imagine you are a Data Scientist working for a subscription company. The web design team is working on finding the perfect CTA (call-to-action) button to urge page visitors to sign up for their service. They presented you with 4 different designs besides the current version.\n",
    "\n",
    "After running an experiment comparing each variant to the control, you generated a list of p-values loaded in the pvals variable. Comparing them directly to the significance threshold would result in an inflated Type I error rate. To avoid this, you can use the smt.multipletests() function from Python's statsmodels library to correct the p-values and test for statistical significance with a FWER = 5%."
   ]
  },
  {
   "cell_type": "code",
   "execution_count": 54,
   "id": "6f0b6fee",
   "metadata": {},
   "outputs": [
    {
     "name": "stdout",
     "output_type": "stream",
     "text": [
      "Significant Test: [False  True  True  True]\n",
      "Corrected P-values: [0.0504  0.002   0.00028 0.036  ]\n",
      "Bonferroni Corrected alpha: 0.0125\n"
     ]
    }
   ],
   "source": [
    "#Perform a Bonferroni correction to the list of p-values using alpha = 0.05.\n",
    "import statsmodels.stats.multitest as smt\n",
    "\n",
    "pvals = [0.0126, 0.0005, 0.00007, 0.009]\n",
    "\n",
    "# Perform a Bonferroni correction and print the output\n",
    "corrected = smt.multipletests(pvals, alpha = 0.05, method = 'bonferroni')\n",
    "\n",
    "print('Significant Test:', corrected[0])\n",
    "print('Corrected P-values:', corrected[1])\n",
    "print('Bonferroni Corrected alpha: {:.4f}'.format(corrected[3]))"
   ]
  },
  {
   "cell_type": "code",
   "execution_count": 56,
   "id": "30094fe4",
   "metadata": {},
   "outputs": [
    {
     "name": "stdout",
     "output_type": "stream",
     "text": [
      "Significant Test: [ True  True  True  True]\n",
      "Corrected P-values: [0.04945542 0.0019985  0.00027997 0.03551691]\n",
      "Sidak Corrected alpha: 0.0125\n"
     ]
    }
   ],
   "source": [
    "# Perform a Sidak correction and print the output\n",
    "corrected = smt.multipletests(pvals, alpha = .05, method = 'Sidak')\n",
    "\n",
    "print('Significant Test:', corrected[0])\n",
    "print('Corrected P-values:', corrected[1])\n",
    "print('Sidak Corrected alpha: {:.4f}'.format(corrected[3]))\n",
    "\n",
    "# Looks like the results have changed and the hypothesis corresponding to the first p-value is now rejected!\n",
    "#Since the Bonferroni correction is the strictest method, \n",
    "#other corrections may flip the results for the edge cases."
   ]
  },
  {
   "cell_type": "markdown",
   "id": "caa4937a",
   "metadata": {},
   "source": [
    "## Data Cleaning and Exploration"
   ]
  },
  {
   "cell_type": "code",
   "execution_count": 59,
   "id": "1c4d441b",
   "metadata": {},
   "outputs": [
    {
     "data": {
      "text/html": [
       "<div>\n",
       "<style scoped>\n",
       "    .dataframe tbody tr th:only-of-type {\n",
       "        vertical-align: middle;\n",
       "    }\n",
       "\n",
       "    .dataframe tbody tr th {\n",
       "        vertical-align: top;\n",
       "    }\n",
       "\n",
       "    .dataframe thead th {\n",
       "        text-align: right;\n",
       "    }\n",
       "</style>\n",
       "<table border=\"1\" class=\"dataframe\">\n",
       "  <thead>\n",
       "    <tr style=\"text-align: right;\">\n",
       "      <th></th>\n",
       "      <th>Unnamed: 0</th>\n",
       "      <th>user_id</th>\n",
       "      <th>checkout_page</th>\n",
       "      <th>order_value</th>\n",
       "      <th>purchased</th>\n",
       "      <th>gender</th>\n",
       "      <th>browser</th>\n",
       "      <th>time_on_page</th>\n",
       "    </tr>\n",
       "  </thead>\n",
       "  <tbody>\n",
       "    <tr>\n",
       "      <th>0</th>\n",
       "      <td>0</td>\n",
       "      <td>877621</td>\n",
       "      <td>A</td>\n",
       "      <td>29.410131</td>\n",
       "      <td>1</td>\n",
       "      <td>F</td>\n",
       "      <td>chrome</td>\n",
       "      <td>66.168628</td>\n",
       "    </tr>\n",
       "    <tr>\n",
       "      <th>1</th>\n",
       "      <td>1</td>\n",
       "      <td>876599</td>\n",
       "      <td>A</td>\n",
       "      <td>NaN</td>\n",
       "      <td>0</td>\n",
       "      <td>M</td>\n",
       "      <td>firefox</td>\n",
       "      <td>49.801887</td>\n",
       "    </tr>\n",
       "    <tr>\n",
       "      <th>2</th>\n",
       "      <td>2</td>\n",
       "      <td>905407</td>\n",
       "      <td>A</td>\n",
       "      <td>27.446845</td>\n",
       "      <td>1</td>\n",
       "      <td>M</td>\n",
       "      <td>chrome</td>\n",
       "      <td>56.744856</td>\n",
       "    </tr>\n",
       "    <tr>\n",
       "      <th>3</th>\n",
       "      <td>3</td>\n",
       "      <td>883562</td>\n",
       "      <td>A</td>\n",
       "      <td>30.602233</td>\n",
       "      <td>1</td>\n",
       "      <td>M</td>\n",
       "      <td>safari</td>\n",
       "      <td>71.890718</td>\n",
       "    </tr>\n",
       "    <tr>\n",
       "      <th>4</th>\n",
       "      <td>4</td>\n",
       "      <td>840542</td>\n",
       "      <td>A</td>\n",
       "      <td>29.668895</td>\n",
       "      <td>1</td>\n",
       "      <td>F</td>\n",
       "      <td>safari</td>\n",
       "      <td>67.410696</td>\n",
       "    </tr>\n",
       "  </tbody>\n",
       "</table>\n",
       "</div>"
      ],
      "text/plain": [
       "   Unnamed: 0  user_id checkout_page  order_value  purchased gender  browser  \\\n",
       "0           0   877621             A    29.410131          1      F   chrome   \n",
       "1           1   876599             A          NaN          0      M  firefox   \n",
       "2           2   905407             A    27.446845          1      M   chrome   \n",
       "3           3   883562             A    30.602233          1      M   safari   \n",
       "4           4   840542             A    29.668895          1      F   safari   \n",
       "\n",
       "   time_on_page  \n",
       "0     66.168628  \n",
       "1     49.801887  \n",
       "2     56.744856  \n",
       "3     71.890718  \n",
       "4     67.410696  "
      ]
     },
     "execution_count": 59,
     "metadata": {},
     "output_type": "execute_result"
    }
   ],
   "source": [
    "checkout.head()"
   ]
  },
  {
   "cell_type": "code",
   "execution_count": 61,
   "id": "81c60bc0",
   "metadata": {},
   "outputs": [
    {
     "data": {
      "text/html": [
       "<div>\n",
       "<style scoped>\n",
       "    .dataframe tbody tr th:only-of-type {\n",
       "        vertical-align: middle;\n",
       "    }\n",
       "\n",
       "    .dataframe tbody tr th {\n",
       "        vertical-align: top;\n",
       "    }\n",
       "\n",
       "    .dataframe thead th {\n",
       "        text-align: right;\n",
       "    }\n",
       "</style>\n",
       "<table border=\"1\" class=\"dataframe\">\n",
       "  <thead>\n",
       "    <tr style=\"text-align: right;\">\n",
       "      <th></th>\n",
       "      <th>std</th>\n",
       "      <th>count</th>\n",
       "      <th>mean</th>\n",
       "    </tr>\n",
       "    <tr>\n",
       "      <th>checkout_page</th>\n",
       "      <th></th>\n",
       "      <th></th>\n",
       "      <th></th>\n",
       "    </tr>\n",
       "  </thead>\n",
       "  <tbody>\n",
       "    <tr>\n",
       "      <th>A</th>\n",
       "      <td>0.383974</td>\n",
       "      <td>3000</td>\n",
       "      <td>0.820333</td>\n",
       "    </tr>\n",
       "    <tr>\n",
       "      <th>B</th>\n",
       "      <td>0.360048</td>\n",
       "      <td>3000</td>\n",
       "      <td>0.847000</td>\n",
       "    </tr>\n",
       "    <tr>\n",
       "      <th>C</th>\n",
       "      <td>0.338909</td>\n",
       "      <td>3000</td>\n",
       "      <td>0.867667</td>\n",
       "    </tr>\n",
       "  </tbody>\n",
       "</table>\n",
       "</div>"
      ],
      "text/plain": [
       "                    std  count      mean\n",
       "checkout_page                           \n",
       "A              0.383974   3000  0.820333\n",
       "B              0.360048   3000  0.847000\n",
       "C              0.338909   3000  0.867667"
      ]
     },
     "execution_count": 61,
     "metadata": {},
     "output_type": "execute_result"
    }
   ],
   "source": [
    "# Calculate the mean, standard deviation and count of the purchased column by checkout_page in one line of code.\n",
    "checkout.groupby('checkout_page')['purchased'].agg({'mean','std','count'})"
   ]
  },
  {
   "cell_type": "code",
   "execution_count": 63,
   "id": "b50ba9fd",
   "metadata": {},
   "outputs": [
    {
     "data": {
      "text/plain": [
       "purchased\n",
       "1    7605\n",
       "0    1395\n",
       "Name: count, dtype: int64"
      ]
     },
     "execution_count": 63,
     "metadata": {},
     "output_type": "execute_result"
    }
   ],
   "source": [
    "checkout.purchased.value_counts()"
   ]
  },
  {
   "cell_type": "code",
   "execution_count": 65,
   "id": "f54db13b",
   "metadata": {},
   "outputs": [
    {
     "data": {
      "image/png": "[encoded data removed]",
      "text/plain": [
       "<Figure size 640x480 with 1 Axes>"
      ]
     },
     "metadata": {},
     "output_type": "display_data"
    }
   ],
   "source": [
    "# Create a bar plot of average purchase rate per checkout_page.\n",
    "sns.barplot(x=checkout['checkout_page'], y=checkout['purchased'], estimator=np.mean)\n",
    "plt.ylim(0, 1)\n",
    "plt.title('Purchase Rate per Checkout Page Variant')\n",
    "plt.xlabel('Checkout Page Variant')\n",
    "plt.ylabel('Purchase Rate')\n",
    "plt.show()"
   ]
  },
  {
   "cell_type": "markdown",
   "id": "1fba949d",
   "metadata": {},
   "source": [
    "Consider yourself a Data Analyst about to start digging into A/B testing data at the initial EDA stage before running any statistical tests. See what you can find in the data that looks interesting to you. AdSmart and checkout DataFrames, as well as pandas as pd, NumPy and np, Matplotlib.pyplot as plt, and Seaborn as sns, have already been loaded for you.\n",
    "\n",
    "https://www.kaggle.com/datasets/osuolaleemmanuel/ad-ab-testing?resource=download&select=AdSmartABdata+-+AdSmartABdata.csv"
   ]
  },
  {
   "cell_type": "code",
   "execution_count": 68,
   "id": "354f6981",
   "metadata": {},
   "outputs": [],
   "source": [
    "AdSmart = pd.read_csv(r'//Users//EJEGUS//Desktop//AB Testing DataCamp//AdSmartABdata - AdSmartABdata.csv')"
   ]
  },
  {
   "cell_type": "code",
   "execution_count": 70,
   "id": "3394946a",
   "metadata": {},
   "outputs": [
    {
     "data": {
      "text/html": [
       "<div>\n",
       "<style scoped>\n",
       "    .dataframe tbody tr th:only-of-type {\n",
       "        vertical-align: middle;\n",
       "    }\n",
       "\n",
       "    .dataframe tbody tr th {\n",
       "        vertical-align: top;\n",
       "    }\n",
       "\n",
       "    .dataframe thead th {\n",
       "        text-align: right;\n",
       "    }\n",
       "</style>\n",
       "<table border=\"1\" class=\"dataframe\">\n",
       "  <thead>\n",
       "    <tr style=\"text-align: right;\">\n",
       "      <th></th>\n",
       "      <th>auction_id</th>\n",
       "      <th>experiment</th>\n",
       "      <th>date</th>\n",
       "      <th>hour</th>\n",
       "      <th>device_make</th>\n",
       "      <th>platform_os</th>\n",
       "      <th>browser</th>\n",
       "      <th>yes</th>\n",
       "      <th>no</th>\n",
       "    </tr>\n",
       "  </thead>\n",
       "  <tbody>\n",
       "    <tr>\n",
       "      <th>0</th>\n",
       "      <td>0008ef63-77a7-448b-bd1e-075f42c55e39</td>\n",
       "      <td>exposed</td>\n",
       "      <td>2020-07-10</td>\n",
       "      <td>8</td>\n",
       "      <td>Generic Smartphone</td>\n",
       "      <td>6</td>\n",
       "      <td>Chrome Mobile</td>\n",
       "      <td>0</td>\n",
       "      <td>0</td>\n",
       "    </tr>\n",
       "    <tr>\n",
       "      <th>1</th>\n",
       "      <td>000eabc5-17ce-4137-8efe-44734d914446</td>\n",
       "      <td>exposed</td>\n",
       "      <td>2020-07-07</td>\n",
       "      <td>10</td>\n",
       "      <td>Generic Smartphone</td>\n",
       "      <td>6</td>\n",
       "      <td>Chrome Mobile</td>\n",
       "      <td>0</td>\n",
       "      <td>0</td>\n",
       "    </tr>\n",
       "    <tr>\n",
       "      <th>2</th>\n",
       "      <td>0016d14a-ae18-4a02-a204-6ba53b52f2ed</td>\n",
       "      <td>exposed</td>\n",
       "      <td>2020-07-05</td>\n",
       "      <td>2</td>\n",
       "      <td>E5823</td>\n",
       "      <td>6</td>\n",
       "      <td>Chrome Mobile WebView</td>\n",
       "      <td>0</td>\n",
       "      <td>1</td>\n",
       "    </tr>\n",
       "    <tr>\n",
       "      <th>3</th>\n",
       "      <td>00187412-2932-4542-a8ef-3633901c98d9</td>\n",
       "      <td>control</td>\n",
       "      <td>2020-07-03</td>\n",
       "      <td>15</td>\n",
       "      <td>Samsung SM-A705FN</td>\n",
       "      <td>6</td>\n",
       "      <td>Facebook</td>\n",
       "      <td>0</td>\n",
       "      <td>0</td>\n",
       "    </tr>\n",
       "    <tr>\n",
       "      <th>4</th>\n",
       "      <td>001a7785-d3fe-4e11-a344-c8735acacc2c</td>\n",
       "      <td>control</td>\n",
       "      <td>2020-07-03</td>\n",
       "      <td>15</td>\n",
       "      <td>Generic Smartphone</td>\n",
       "      <td>6</td>\n",
       "      <td>Chrome Mobile</td>\n",
       "      <td>0</td>\n",
       "      <td>0</td>\n",
       "    </tr>\n",
       "    <tr>\n",
       "      <th>...</th>\n",
       "      <td>...</td>\n",
       "      <td>...</td>\n",
       "      <td>...</td>\n",
       "      <td>...</td>\n",
       "      <td>...</td>\n",
       "      <td>...</td>\n",
       "      <td>...</td>\n",
       "      <td>...</td>\n",
       "      <td>...</td>\n",
       "    </tr>\n",
       "    <tr>\n",
       "      <th>8072</th>\n",
       "      <td>ffea24ec-cec1-43fb-b1d1-8f93828c2be2</td>\n",
       "      <td>exposed</td>\n",
       "      <td>2020-07-05</td>\n",
       "      <td>7</td>\n",
       "      <td>Generic Smartphone</td>\n",
       "      <td>6</td>\n",
       "      <td>Chrome Mobile</td>\n",
       "      <td>0</td>\n",
       "      <td>0</td>\n",
       "    </tr>\n",
       "    <tr>\n",
       "      <th>8073</th>\n",
       "      <td>ffea3210-2c3e-426f-a77d-0aa72e73b20f</td>\n",
       "      <td>control</td>\n",
       "      <td>2020-07-03</td>\n",
       "      <td>15</td>\n",
       "      <td>Generic Smartphone</td>\n",
       "      <td>6</td>\n",
       "      <td>Chrome Mobile</td>\n",
       "      <td>0</td>\n",
       "      <td>0</td>\n",
       "    </tr>\n",
       "    <tr>\n",
       "      <th>8074</th>\n",
       "      <td>ffeaa0f1-1d72-4ba9-afb4-314b3b00a7c7</td>\n",
       "      <td>control</td>\n",
       "      <td>2020-07-04</td>\n",
       "      <td>9</td>\n",
       "      <td>Generic Smartphone</td>\n",
       "      <td>6</td>\n",
       "      <td>Chrome Mobile</td>\n",
       "      <td>0</td>\n",
       "      <td>0</td>\n",
       "    </tr>\n",
       "    <tr>\n",
       "      <th>8075</th>\n",
       "      <td>ffeeed62-3f7c-4a6e-8ba7-95d303d40969</td>\n",
       "      <td>exposed</td>\n",
       "      <td>2020-07-05</td>\n",
       "      <td>15</td>\n",
       "      <td>Samsung SM-A515F</td>\n",
       "      <td>6</td>\n",
       "      <td>Samsung Internet</td>\n",
       "      <td>0</td>\n",
       "      <td>0</td>\n",
       "    </tr>\n",
       "    <tr>\n",
       "      <th>8076</th>\n",
       "      <td>fffbb9ff-568a-41a5-a0c3-6866592f80d8</td>\n",
       "      <td>control</td>\n",
       "      <td>2020-07-10</td>\n",
       "      <td>14</td>\n",
       "      <td>Samsung SM-G960F</td>\n",
       "      <td>6</td>\n",
       "      <td>Facebook</td>\n",
       "      <td>0</td>\n",
       "      <td>0</td>\n",
       "    </tr>\n",
       "  </tbody>\n",
       "</table>\n",
       "<p>8077 rows × 9 columns</p>\n",
       "</div>"
      ],
      "text/plain": [
       "                                auction_id experiment        date  hour  \\\n",
       "0     0008ef63-77a7-448b-bd1e-075f42c55e39    exposed  2020-07-10     8   \n",
       "1     000eabc5-17ce-4137-8efe-44734d914446    exposed  2020-07-07    10   \n",
       "2     0016d14a-ae18-4a02-a204-6ba53b52f2ed    exposed  2020-07-05     2   \n",
       "3     00187412-2932-4542-a8ef-3633901c98d9    control  2020-07-03    15   \n",
       "4     001a7785-d3fe-4e11-a344-c8735acacc2c    control  2020-07-03    15   \n",
       "...                                    ...        ...         ...   ...   \n",
       "8072  ffea24ec-cec1-43fb-b1d1-8f93828c2be2    exposed  2020-07-05     7   \n",
       "8073  ffea3210-2c3e-426f-a77d-0aa72e73b20f    control  2020-07-03    15   \n",
       "8074  ffeaa0f1-1d72-4ba9-afb4-314b3b00a7c7    control  2020-07-04     9   \n",
       "8075  ffeeed62-3f7c-4a6e-8ba7-95d303d40969    exposed  2020-07-05    15   \n",
       "8076  fffbb9ff-568a-41a5-a0c3-6866592f80d8    control  2020-07-10    14   \n",
       "\n",
       "             device_make  platform_os                browser  yes  no  \n",
       "0     Generic Smartphone            6          Chrome Mobile    0   0  \n",
       "1     Generic Smartphone            6          Chrome Mobile    0   0  \n",
       "2                  E5823            6  Chrome Mobile WebView    0   1  \n",
       "3      Samsung SM-A705FN            6               Facebook    0   0  \n",
       "4     Generic Smartphone            6          Chrome Mobile    0   0  \n",
       "...                  ...          ...                    ...  ...  ..  \n",
       "8072  Generic Smartphone            6          Chrome Mobile    0   0  \n",
       "8073  Generic Smartphone            6          Chrome Mobile    0   0  \n",
       "8074  Generic Smartphone            6          Chrome Mobile    0   0  \n",
       "8075    Samsung SM-A515F            6       Samsung Internet    0   0  \n",
       "8076    Samsung SM-G960F            6               Facebook    0   0  \n",
       "\n",
       "[8077 rows x 9 columns]"
      ]
     },
     "execution_count": 70,
     "metadata": {},
     "output_type": "execute_result"
    }
   ],
   "source": [
    "AdSmart"
   ]
  },
  {
   "cell_type": "code",
   "execution_count": 72,
   "id": "106a0b4e",
   "metadata": {},
   "outputs": [
    {
     "name": "stderr",
     "output_type": "stream",
     "text": [
      "/var/folders/p_/47c1l4ln21l4ts84bdv0kk840000gq/T/ipykernel_3207/315316169.py:3: FutureWarning: \n",
      "\n",
      "The `ci` parameter is deprecated. Use `errorbar=('ci', False)` for the same effect.\n",
      "\n",
      "  sns.lineplot(data=AdSmart, x='date', y='no', hue='experiment', ci=False)\n"
     ]
    },
    {
     "data": {
      "image/png": "[encoded data removed]",
      "text/plain": [
       "<Figure size 640x480 with 1 Axes>"
      ]
     },
     "metadata": {},
     "output_type": "display_data"
    }
   ],
   "source": [
    "# Plot the proportion of 'no' responses over experiment duration per experiment variant in the AdSmart dataset.\n",
    "\n",
    "sns.lineplot(data=AdSmart, x='date', y='no', hue='experiment', ci=False)\n",
    "plt.show()"
   ]
  },
  {
   "cell_type": "code",
   "execution_count": 73,
   "id": "9aa1faac",
   "metadata": {},
   "outputs": [
    {
     "name": "stdout",
     "output_type": "stream",
     "text": [
      "8077\n"
     ]
    },
    {
     "data": {
      "text/plain": [
       "8077"
      ]
     },
     "execution_count": 73,
     "metadata": {},
     "output_type": "execute_result"
    }
   ],
   "source": [
    "# Check for duplicate rows in the AdSmart dataset by printing number of rows.\n",
    "print(len(AdSmart))\n",
    "len(AdSmart.drop_duplicates(keep='first'))"
   ]
  },
  {
   "cell_type": "code",
   "execution_count": 76,
   "id": "0d5d3c6b",
   "metadata": {},
   "outputs": [],
   "source": [
    "# Calculate the number of unique users in group B, then compute two different metrics: \n",
    "# one looks at the unique users who signed up at least one time, and another that sums up all signups in the group.\n",
    "\n"
   ]
  },
  {
   "cell_type": "code",
   "execution_count": 78,
   "id": "6de09aae",
   "metadata": {},
   "outputs": [
    {
     "data": {
      "text/html": [
       "<div>\n",
       "<style scoped>\n",
       "    .dataframe tbody tr th:only-of-type {\n",
       "        vertical-align: middle;\n",
       "    }\n",
       "\n",
       "    .dataframe tbody tr th {\n",
       "        vertical-align: top;\n",
       "    }\n",
       "\n",
       "    .dataframe thead th {\n",
       "        text-align: right;\n",
       "    }\n",
       "</style>\n",
       "<table border=\"1\" class=\"dataframe\">\n",
       "  <thead>\n",
       "    <tr style=\"text-align: right;\">\n",
       "      <th></th>\n",
       "      <th>Unnamed: 0</th>\n",
       "      <th>user_id</th>\n",
       "      <th>checkout_page</th>\n",
       "      <th>order_value</th>\n",
       "      <th>purchased</th>\n",
       "      <th>gender</th>\n",
       "      <th>browser</th>\n",
       "      <th>time_on_page</th>\n",
       "    </tr>\n",
       "  </thead>\n",
       "  <tbody>\n",
       "    <tr>\n",
       "      <th>0</th>\n",
       "      <td>0</td>\n",
       "      <td>877621</td>\n",
       "      <td>A</td>\n",
       "      <td>29.410131</td>\n",
       "      <td>1</td>\n",
       "      <td>F</td>\n",
       "      <td>chrome</td>\n",
       "      <td>66.168628</td>\n",
       "    </tr>\n",
       "    <tr>\n",
       "      <th>1</th>\n",
       "      <td>1</td>\n",
       "      <td>876599</td>\n",
       "      <td>A</td>\n",
       "      <td>NaN</td>\n",
       "      <td>0</td>\n",
       "      <td>M</td>\n",
       "      <td>firefox</td>\n",
       "      <td>49.801887</td>\n",
       "    </tr>\n",
       "    <tr>\n",
       "      <th>2</th>\n",
       "      <td>2</td>\n",
       "      <td>905407</td>\n",
       "      <td>A</td>\n",
       "      <td>27.446845</td>\n",
       "      <td>1</td>\n",
       "      <td>M</td>\n",
       "      <td>chrome</td>\n",
       "      <td>56.744856</td>\n",
       "    </tr>\n",
       "    <tr>\n",
       "      <th>3</th>\n",
       "      <td>3</td>\n",
       "      <td>883562</td>\n",
       "      <td>A</td>\n",
       "      <td>30.602233</td>\n",
       "      <td>1</td>\n",
       "      <td>M</td>\n",
       "      <td>safari</td>\n",
       "      <td>71.890718</td>\n",
       "    </tr>\n",
       "    <tr>\n",
       "      <th>4</th>\n",
       "      <td>4</td>\n",
       "      <td>840542</td>\n",
       "      <td>A</td>\n",
       "      <td>29.668895</td>\n",
       "      <td>1</td>\n",
       "      <td>F</td>\n",
       "      <td>safari</td>\n",
       "      <td>67.410696</td>\n",
       "    </tr>\n",
       "  </tbody>\n",
       "</table>\n",
       "</div>"
      ],
      "text/plain": [
       "   Unnamed: 0  user_id checkout_page  order_value  purchased gender  browser  \\\n",
       "0           0   877621             A    29.410131          1      F   chrome   \n",
       "1           1   876599             A          NaN          0      M  firefox   \n",
       "2           2   905407             A    27.446845          1      M   chrome   \n",
       "3           3   883562             A    30.602233          1      M   safari   \n",
       "4           4   840542             A    29.668895          1      F   safari   \n",
       "\n",
       "   time_on_page  \n",
       "0     66.168628  \n",
       "1     49.801887  \n",
       "2     56.744856  \n",
       "3     71.890718  \n",
       "4     67.410696  "
      ]
     },
     "execution_count": 78,
     "metadata": {},
     "output_type": "execute_result"
    }
   ],
   "source": [
    "checkout.head()"
   ]
  },
  {
   "cell_type": "code",
   "execution_count": 80,
   "id": "f76e2190",
   "metadata": {},
   "outputs": [],
   "source": [
    "# Calculate the number of unique users in group B, then compute two different metrics:\n",
    "# one looks at the unique users who signed up at least one time, \n",
    "# and another that sums up all signups in the group."
   ]
  },
  {
   "cell_type": "code",
   "execution_count": 82,
   "id": "b0a374c4",
   "metadata": {},
   "outputs": [
    {
     "data": {
      "text/plain": [
       "2938"
      ]
     },
     "execution_count": 82,
     "metadata": {},
     "output_type": "execute_result"
    }
   ],
   "source": [
    "# unique users in group b\n",
    "checkout[checkout['checkout_page'] == 'B']['user_id'].nunique()"
   ]
  },
  {
   "cell_type": "code",
   "execution_count": 84,
   "id": "5e5e3f89",
   "metadata": {},
   "outputs": [
    {
     "data": {
      "text/plain": [
       "2491"
      ]
     },
     "execution_count": 84,
     "metadata": {},
     "output_type": "execute_result"
    }
   ],
   "source": [
    "# unique users whi purchased at least once\n",
    "checkout[checkout['checkout_page'] == 'B'].groupby('user_id')['purchased'].max().sum()"
   ]
  },
  {
   "cell_type": "code",
   "execution_count": 86,
   "id": "44da6faa",
   "metadata": {},
   "outputs": [
    {
     "data": {
      "text/plain": [
       "user_id\n",
       "834528    1\n",
       "834532    0\n",
       "834539    0\n",
       "834561    1\n",
       "834605    1\n",
       "         ..\n",
       "914478    1\n",
       "914509    2\n",
       "914555    1\n",
       "914573    1\n",
       "914582    1\n",
       "Name: purchased, Length: 2938, dtype: int64"
      ]
     },
     "execution_count": 86,
     "metadata": {},
     "output_type": "execute_result"
    }
   ],
   "source": [
    "# total purchase events in group b \n",
    "checkout[checkout['checkout_page'] == 'B'].groupby('user_id')['purchased'].sum()"
   ]
  },
  {
   "cell_type": "code",
   "execution_count": 88,
   "id": "c78710f1",
   "metadata": {},
   "outputs": [
    {
     "data": {
      "text/html": [
       "<div>\n",
       "<style scoped>\n",
       "    .dataframe tbody tr th:only-of-type {\n",
       "        vertical-align: middle;\n",
       "    }\n",
       "\n",
       "    .dataframe tbody tr th {\n",
       "        vertical-align: top;\n",
       "    }\n",
       "\n",
       "    .dataframe thead th {\n",
       "        text-align: right;\n",
       "    }\n",
       "</style>\n",
       "<table border=\"1\" class=\"dataframe\">\n",
       "  <thead>\n",
       "    <tr style=\"text-align: right;\">\n",
       "      <th></th>\n",
       "      <th>auction_id</th>\n",
       "      <th>experiment</th>\n",
       "      <th>date</th>\n",
       "      <th>hour</th>\n",
       "      <th>device_make</th>\n",
       "      <th>platform_os</th>\n",
       "      <th>browser</th>\n",
       "      <th>yes</th>\n",
       "      <th>no</th>\n",
       "    </tr>\n",
       "  </thead>\n",
       "  <tbody>\n",
       "    <tr>\n",
       "      <th>0</th>\n",
       "      <td>0008ef63-77a7-448b-bd1e-075f42c55e39</td>\n",
       "      <td>exposed</td>\n",
       "      <td>2020-07-10</td>\n",
       "      <td>8</td>\n",
       "      <td>Generic Smartphone</td>\n",
       "      <td>6</td>\n",
       "      <td>Chrome Mobile</td>\n",
       "      <td>0</td>\n",
       "      <td>0</td>\n",
       "    </tr>\n",
       "    <tr>\n",
       "      <th>1</th>\n",
       "      <td>000eabc5-17ce-4137-8efe-44734d914446</td>\n",
       "      <td>exposed</td>\n",
       "      <td>2020-07-07</td>\n",
       "      <td>10</td>\n",
       "      <td>Generic Smartphone</td>\n",
       "      <td>6</td>\n",
       "      <td>Chrome Mobile</td>\n",
       "      <td>0</td>\n",
       "      <td>0</td>\n",
       "    </tr>\n",
       "    <tr>\n",
       "      <th>2</th>\n",
       "      <td>0016d14a-ae18-4a02-a204-6ba53b52f2ed</td>\n",
       "      <td>exposed</td>\n",
       "      <td>2020-07-05</td>\n",
       "      <td>2</td>\n",
       "      <td>E5823</td>\n",
       "      <td>6</td>\n",
       "      <td>Chrome Mobile WebView</td>\n",
       "      <td>0</td>\n",
       "      <td>1</td>\n",
       "    </tr>\n",
       "    <tr>\n",
       "      <th>3</th>\n",
       "      <td>00187412-2932-4542-a8ef-3633901c98d9</td>\n",
       "      <td>control</td>\n",
       "      <td>2020-07-03</td>\n",
       "      <td>15</td>\n",
       "      <td>Samsung SM-A705FN</td>\n",
       "      <td>6</td>\n",
       "      <td>Facebook</td>\n",
       "      <td>0</td>\n",
       "      <td>0</td>\n",
       "    </tr>\n",
       "    <tr>\n",
       "      <th>4</th>\n",
       "      <td>001a7785-d3fe-4e11-a344-c8735acacc2c</td>\n",
       "      <td>control</td>\n",
       "      <td>2020-07-03</td>\n",
       "      <td>15</td>\n",
       "      <td>Generic Smartphone</td>\n",
       "      <td>6</td>\n",
       "      <td>Chrome Mobile</td>\n",
       "      <td>0</td>\n",
       "      <td>0</td>\n",
       "    </tr>\n",
       "    <tr>\n",
       "      <th>...</th>\n",
       "      <td>...</td>\n",
       "      <td>...</td>\n",
       "      <td>...</td>\n",
       "      <td>...</td>\n",
       "      <td>...</td>\n",
       "      <td>...</td>\n",
       "      <td>...</td>\n",
       "      <td>...</td>\n",
       "      <td>...</td>\n",
       "    </tr>\n",
       "    <tr>\n",
       "      <th>8072</th>\n",
       "      <td>ffea24ec-cec1-43fb-b1d1-8f93828c2be2</td>\n",
       "      <td>exposed</td>\n",
       "      <td>2020-07-05</td>\n",
       "      <td>7</td>\n",
       "      <td>Generic Smartphone</td>\n",
       "      <td>6</td>\n",
       "      <td>Chrome Mobile</td>\n",
       "      <td>0</td>\n",
       "      <td>0</td>\n",
       "    </tr>\n",
       "    <tr>\n",
       "      <th>8073</th>\n",
       "      <td>ffea3210-2c3e-426f-a77d-0aa72e73b20f</td>\n",
       "      <td>control</td>\n",
       "      <td>2020-07-03</td>\n",
       "      <td>15</td>\n",
       "      <td>Generic Smartphone</td>\n",
       "      <td>6</td>\n",
       "      <td>Chrome Mobile</td>\n",
       "      <td>0</td>\n",
       "      <td>0</td>\n",
       "    </tr>\n",
       "    <tr>\n",
       "      <th>8074</th>\n",
       "      <td>ffeaa0f1-1d72-4ba9-afb4-314b3b00a7c7</td>\n",
       "      <td>control</td>\n",
       "      <td>2020-07-04</td>\n",
       "      <td>9</td>\n",
       "      <td>Generic Smartphone</td>\n",
       "      <td>6</td>\n",
       "      <td>Chrome Mobile</td>\n",
       "      <td>0</td>\n",
       "      <td>0</td>\n",
       "    </tr>\n",
       "    <tr>\n",
       "      <th>8075</th>\n",
       "      <td>ffeeed62-3f7c-4a6e-8ba7-95d303d40969</td>\n",
       "      <td>exposed</td>\n",
       "      <td>2020-07-05</td>\n",
       "      <td>15</td>\n",
       "      <td>Samsung SM-A515F</td>\n",
       "      <td>6</td>\n",
       "      <td>Samsung Internet</td>\n",
       "      <td>0</td>\n",
       "      <td>0</td>\n",
       "    </tr>\n",
       "    <tr>\n",
       "      <th>8076</th>\n",
       "      <td>fffbb9ff-568a-41a5-a0c3-6866592f80d8</td>\n",
       "      <td>control</td>\n",
       "      <td>2020-07-10</td>\n",
       "      <td>14</td>\n",
       "      <td>Samsung SM-G960F</td>\n",
       "      <td>6</td>\n",
       "      <td>Facebook</td>\n",
       "      <td>0</td>\n",
       "      <td>0</td>\n",
       "    </tr>\n",
       "  </tbody>\n",
       "</table>\n",
       "<p>8077 rows × 9 columns</p>\n",
       "</div>"
      ],
      "text/plain": [
       "                                auction_id experiment        date  hour  \\\n",
       "0     0008ef63-77a7-448b-bd1e-075f42c55e39    exposed  2020-07-10     8   \n",
       "1     000eabc5-17ce-4137-8efe-44734d914446    exposed  2020-07-07    10   \n",
       "2     0016d14a-ae18-4a02-a204-6ba53b52f2ed    exposed  2020-07-05     2   \n",
       "3     00187412-2932-4542-a8ef-3633901c98d9    control  2020-07-03    15   \n",
       "4     001a7785-d3fe-4e11-a344-c8735acacc2c    control  2020-07-03    15   \n",
       "...                                    ...        ...         ...   ...   \n",
       "8072  ffea24ec-cec1-43fb-b1d1-8f93828c2be2    exposed  2020-07-05     7   \n",
       "8073  ffea3210-2c3e-426f-a77d-0aa72e73b20f    control  2020-07-03    15   \n",
       "8074  ffeaa0f1-1d72-4ba9-afb4-314b3b00a7c7    control  2020-07-04     9   \n",
       "8075  ffeeed62-3f7c-4a6e-8ba7-95d303d40969    exposed  2020-07-05    15   \n",
       "8076  fffbb9ff-568a-41a5-a0c3-6866592f80d8    control  2020-07-10    14   \n",
       "\n",
       "             device_make  platform_os                browser  yes  no  \n",
       "0     Generic Smartphone            6          Chrome Mobile    0   0  \n",
       "1     Generic Smartphone            6          Chrome Mobile    0   0  \n",
       "2                  E5823            6  Chrome Mobile WebView    0   1  \n",
       "3      Samsung SM-A705FN            6               Facebook    0   0  \n",
       "4     Generic Smartphone            6          Chrome Mobile    0   0  \n",
       "...                  ...          ...                    ...  ...  ..  \n",
       "8072  Generic Smartphone            6          Chrome Mobile    0   0  \n",
       "8073  Generic Smartphone            6          Chrome Mobile    0   0  \n",
       "8074  Generic Smartphone            6          Chrome Mobile    0   0  \n",
       "8075    Samsung SM-A515F            6       Samsung Internet    0   0  \n",
       "8076    Samsung SM-G960F            6               Facebook    0   0  \n",
       "\n",
       "[8077 rows x 9 columns]"
      ]
     },
     "execution_count": 88,
     "metadata": {},
     "output_type": "execute_result"
    }
   ],
   "source": [
    "AdSmart"
   ]
  },
  {
   "cell_type": "code",
   "execution_count": 90,
   "id": "8c17a0a0-aeec-4323-867c-ab28c6da71fc",
   "metadata": {},
   "outputs": [
    {
     "data": {
      "text/html": [
       "<div>\n",
       "<style scoped>\n",
       "    .dataframe tbody tr th:only-of-type {\n",
       "        vertical-align: middle;\n",
       "    }\n",
       "\n",
       "    .dataframe tbody tr th {\n",
       "        vertical-align: top;\n",
       "    }\n",
       "\n",
       "    .dataframe thead th {\n",
       "        text-align: right;\n",
       "    }\n",
       "</style>\n",
       "<table border=\"1\" class=\"dataframe\">\n",
       "  <thead>\n",
       "    <tr style=\"text-align: right;\">\n",
       "      <th></th>\n",
       "      <th>Unnamed: 0</th>\n",
       "      <th>user_id</th>\n",
       "      <th>checkout_page</th>\n",
       "      <th>order_value</th>\n",
       "      <th>purchased</th>\n",
       "      <th>gender</th>\n",
       "      <th>browser</th>\n",
       "      <th>time_on_page</th>\n",
       "    </tr>\n",
       "  </thead>\n",
       "  <tbody>\n",
       "    <tr>\n",
       "      <th>0</th>\n",
       "      <td>0</td>\n",
       "      <td>877621</td>\n",
       "      <td>A</td>\n",
       "      <td>29.410131</td>\n",
       "      <td>1</td>\n",
       "      <td>F</td>\n",
       "      <td>chrome</td>\n",
       "      <td>66.168628</td>\n",
       "    </tr>\n",
       "    <tr>\n",
       "      <th>1</th>\n",
       "      <td>1</td>\n",
       "      <td>876599</td>\n",
       "      <td>A</td>\n",
       "      <td>NaN</td>\n",
       "      <td>0</td>\n",
       "      <td>M</td>\n",
       "      <td>firefox</td>\n",
       "      <td>49.801887</td>\n",
       "    </tr>\n",
       "    <tr>\n",
       "      <th>2</th>\n",
       "      <td>2</td>\n",
       "      <td>905407</td>\n",
       "      <td>A</td>\n",
       "      <td>27.446845</td>\n",
       "      <td>1</td>\n",
       "      <td>M</td>\n",
       "      <td>chrome</td>\n",
       "      <td>56.744856</td>\n",
       "    </tr>\n",
       "    <tr>\n",
       "      <th>3</th>\n",
       "      <td>3</td>\n",
       "      <td>883562</td>\n",
       "      <td>A</td>\n",
       "      <td>30.602233</td>\n",
       "      <td>1</td>\n",
       "      <td>M</td>\n",
       "      <td>safari</td>\n",
       "      <td>71.890718</td>\n",
       "    </tr>\n",
       "    <tr>\n",
       "      <th>4</th>\n",
       "      <td>4</td>\n",
       "      <td>840542</td>\n",
       "      <td>A</td>\n",
       "      <td>29.668895</td>\n",
       "      <td>1</td>\n",
       "      <td>F</td>\n",
       "      <td>safari</td>\n",
       "      <td>67.410696</td>\n",
       "    </tr>\n",
       "    <tr>\n",
       "      <th>...</th>\n",
       "      <td>...</td>\n",
       "      <td>...</td>\n",
       "      <td>...</td>\n",
       "      <td>...</td>\n",
       "      <td>...</td>\n",
       "      <td>...</td>\n",
       "      <td>...</td>\n",
       "      <td>...</td>\n",
       "    </tr>\n",
       "    <tr>\n",
       "      <th>8995</th>\n",
       "      <td>8995</td>\n",
       "      <td>903591</td>\n",
       "      <td>C</td>\n",
       "      <td>45.395883</td>\n",
       "      <td>1</td>\n",
       "      <td>M</td>\n",
       "      <td>safari</td>\n",
       "      <td>63.291767</td>\n",
       "    </tr>\n",
       "    <tr>\n",
       "      <th>8996</th>\n",
       "      <td>8996</td>\n",
       "      <td>883490</td>\n",
       "      <td>C</td>\n",
       "      <td>30.462670</td>\n",
       "      <td>1</td>\n",
       "      <td>F</td>\n",
       "      <td>safari</td>\n",
       "      <td>33.425340</td>\n",
       "    </tr>\n",
       "    <tr>\n",
       "      <th>8997</th>\n",
       "      <td>8997</td>\n",
       "      <td>914494</td>\n",
       "      <td>C</td>\n",
       "      <td>34.037979</td>\n",
       "      <td>1</td>\n",
       "      <td>M</td>\n",
       "      <td>chrome</td>\n",
       "      <td>40.575958</td>\n",
       "    </tr>\n",
       "    <tr>\n",
       "      <th>8998</th>\n",
       "      <td>8998</td>\n",
       "      <td>897280</td>\n",
       "      <td>C</td>\n",
       "      <td>28.937421</td>\n",
       "      <td>1</td>\n",
       "      <td>F</td>\n",
       "      <td>chrome</td>\n",
       "      <td>30.374843</td>\n",
       "    </tr>\n",
       "    <tr>\n",
       "      <th>8999</th>\n",
       "      <td>8999</td>\n",
       "      <td>846258</td>\n",
       "      <td>C</td>\n",
       "      <td>NaN</td>\n",
       "      <td>0</td>\n",
       "      <td>M</td>\n",
       "      <td>safari</td>\n",
       "      <td>41.694015</td>\n",
       "    </tr>\n",
       "  </tbody>\n",
       "</table>\n",
       "<p>9000 rows × 8 columns</p>\n",
       "</div>"
      ],
      "text/plain": [
       "      Unnamed: 0  user_id checkout_page  order_value  purchased gender  \\\n",
       "0              0   877621             A    29.410131          1      F   \n",
       "1              1   876599             A          NaN          0      M   \n",
       "2              2   905407             A    27.446845          1      M   \n",
       "3              3   883562             A    30.602233          1      M   \n",
       "4              4   840542             A    29.668895          1      F   \n",
       "...          ...      ...           ...          ...        ...    ...   \n",
       "8995        8995   903591             C    45.395883          1      M   \n",
       "8996        8996   883490             C    30.462670          1      F   \n",
       "8997        8997   914494             C    34.037979          1      M   \n",
       "8998        8998   897280             C    28.937421          1      F   \n",
       "8999        8999   846258             C          NaN          0      M   \n",
       "\n",
       "      browser  time_on_page  \n",
       "0      chrome     66.168628  \n",
       "1     firefox     49.801887  \n",
       "2      chrome     56.744856  \n",
       "3      safari     71.890718  \n",
       "4      safari     67.410696  \n",
       "...       ...           ...  \n",
       "8995   safari     63.291767  \n",
       "8996   safari     33.425340  \n",
       "8997   chrome     40.575958  \n",
       "8998   chrome     30.374843  \n",
       "8999   safari     41.694015  \n",
       "\n",
       "[9000 rows x 8 columns]"
      ]
     },
     "execution_count": 90,
     "metadata": {},
     "output_type": "execute_result"
    }
   ],
   "source": [
    "checkout"
   ]
  },
  {
   "cell_type": "markdown",
   "id": "ca82f73d-9007-403a-9de7-27fb1ee29224",
   "metadata": {},
   "source": [
    "# sanity checks for checkout data set before experiment "
   ]
  },
  {
   "cell_type": "code",
   "execution_count": 93,
   "id": "4a73e5b7",
   "metadata": {},
   "outputs": [
    {
     "data": {
      "text/plain": [
       "checkout_page\n",
       "A    2940\n",
       "B    2938\n",
       "C    2954\n",
       "Name: user_id, dtype: int64"
      ]
     },
     "execution_count": 93,
     "metadata": {},
     "output_type": "execute_result"
    }
   ],
   "source": [
    "# Calculate the number of unique users (user_id) in groups 'A' and 'B' and assign the total number of users to the variable total_users.\n",
    "checkout.groupby('checkout_page')['user_id'].nunique()"
   ]
  },
  {
   "cell_type": "code",
   "execution_count": 95,
   "id": "e59b72a4-ade4-4f78-9bd6-74f366db5a2c",
   "metadata": {},
   "outputs": [
    {
     "name": "stdout",
     "output_type": "stream",
     "text": [
      "Control unique users: 2940\n",
      "Treatment unique users: 2938\n",
      "---------------------------------------------\n",
      "Percentage of users in the Control group: 50.017 %\n",
      "Percentage of users in the Exposed group: 49.983 %\n"
     ]
    }
   ],
   "source": [
    "control_users = checkout[checkout['checkout_page'] == 'A']['user_id'].nunique()\n",
    "treatment_users = checkout[checkout['checkout_page'] == 'B']['user_id'].nunique()\n",
    "total_users = control_users + treatment_users\n",
    "print(\"Control unique users:\",control_users)\n",
    "print(\"Treatment unique users:\",treatment_users)\n",
    "\n",
    "print('---------------------------------------------')\n",
    "# Calculate the percentages and create two lists\n",
    "control_perc =  control_users/ total_users\n",
    "treatment_perc = treatment_users/ total_users\n",
    "print(\"Percentage of users in the Control group:\",100*round(control_perc,5),\"%\")\n",
    "print(\"Percentage of users in the Exposed group:\",100*round(treatment_perc,5),\"%\")"
   ]
  },
  {
   "cell_type": "code",
   "execution_count": 97,
   "id": "bb3f00bb-b210-4401-a770-c2557e4d83e2",
   "metadata": {},
   "outputs": [],
   "source": [
    "observed = [control_users, treatment_users]\n",
    "expected = [ total_users/2, total_users/2]"
   ]
  },
  {
   "cell_type": "code",
   "execution_count": 99,
   "id": "ac7e7630-45dd-4729-9e0c-bb2e6de442ef",
   "metadata": {},
   "outputs": [
    {
     "name": "stdout",
     "output_type": "stream",
     "text": [
      "Power_divergenceResult(statistic=0.0006805035726437564, pvalue=0.9791883740327534)\n",
      "Statistical significancelikely not present\n"
     ]
    }
   ],
   "source": [
    "from scipy.stats import chisquare\n",
    "# Run chisquare test on observed and expected lists and print the results\n",
    "chi = chisquare(observed, f_exp=expected)\n",
    "\n",
    "print(chi)\n",
    "if chi[1] < 0.01:\n",
    "    print(\"Statistical significance may be present\")\n",
    "else:\n",
    "    print(\"Statistical significancelikely not present\")\n",
    "\n",
    "#Based on the p-value of 0.979 from the chi-square test, which indicates that there is no significant relationship between the observed and expected frequencies,\n",
    "    #it suggests that the variables analyzed in the chi-square test are likely independent of each other.\n",
    "    #Since the p-value is quite high, it's very unlikely that there is a mismatch that could point to a bug in the allocation setup."
   ]
  },
  {
   "cell_type": "markdown",
   "id": "0a74fcb4-1aa4-4de9-8a68-024dbe59d69a",
   "metadata": {},
   "source": [
    "Using a chi-square test as a \"sanity check\" before an A/B test can serve as a preliminary analysis to ensure that the randomization process in the experiment has been effective and that the groups are comparable before conducting the A/B test. Here's why using a chi-square test as a sanity check can be beneficial:\n",
    "\n",
    "Checking Randomization: The chi-square test can help verify that the assignment of participants to different groups (A and B) in the experiment is random and unbiased. By comparing the distribution of categorical variables (such as demographic characteristics) between the groups using a chi-square test, you can assess whether the randomization process was successful.\n",
    "\n",
    "Assessing Group Similarity: The chi-square test can indicate whether there are any significant differences in the distribution of categorical variables between the A and B groups. If the chi-square test results show no significant differences, it suggests that the groups are similar in terms of the variables being analyzed.\n",
    "\n",
    "Ensuring Valid Comparison: Conducting a chi-square test as a sanity check helps ensure that any differences observed in the A/B test results can be attributed to the treatment (A or B) and not to pre-existing differences between the groups. It provides confidence that the comparison in the A/B test is valid and meaningful.\n",
    "\n",
    "Enhancing Interpretation: By performing a chi-square test before the A/B test, you can enhance the interpretation of the results. Knowing that the groups are comparable at the outset can increase the reliability of the conclusions drawn from the A/B test outcomes.\n",
    "\n",
    "In summary, using a chi-square test as a sanity check before an A/B test can help validate the experimental design, confirm group comparability, and ensure the reliability of the A/B test results by minimizing potential biases and confounding factors. It adds an additional layer of assurance to the experimental process and strengthens the validity of the conclusions drawn from the A/B test.\n",
    "\n"
   ]
  },
  {
   "cell_type": "code",
   "execution_count": null,
   "id": "304b53f4-0c0f-4e50-99bb-6141e1104df5",
   "metadata": {},
   "outputs": [],
   "source": []
  },
  {
   "cell_type": "markdown",
   "id": "c80b43a9-0284-4f4b-8573-551cf8535eba",
   "metadata": {},
   "source": [
    "Another way we can quickly check for randomization bias in our A/B tests is by looking at how balanced or imbalanced the distributions of metrics and attributes that shouldn't change between the different variants. Any major differences in the percentage of certain devices, browsers, or operating systems for examples, assuming our samples are large enough, could be symptoms of larger problems in our internal setup. Examine the AdSmart and checkout datasets that are loaded for you and check for internal validity using the attributes distributions. Which dataset seems to have a more valid internal setup?\n",
    "\n",
    "Check the distribution of platform_os across experiment groups in the AdSmart dataset."
   ]
  },
  {
   "cell_type": "code",
   "execution_count": 112,
   "id": "ace208e3-5287-4102-86ff-6ca5dec52377",
   "metadata": {},
   "outputs": [
    {
     "data": {
      "text/plain": [
       "experiment  platform_os\n",
       "control     6              0.924343\n",
       "            5              0.075657\n",
       "exposed     6              0.969795\n",
       "            5              0.029955\n",
       "            7              0.000250\n",
       "Name: proportion, dtype: float64"
      ]
     },
     "execution_count": 112,
     "metadata": {},
     "output_type": "execute_result"
    }
   ],
   "source": [
    "AdSmart.groupby('experiment')['platform_os'].value_counts(normalize=True)"
   ]
  },
  {
   "cell_type": "markdown",
   "id": "a10dd6e2-bece-439c-9cba-56ac9618cdf2",
   "metadata": {},
   "source": [
    "Looks like the AdSmart dataset may have some randomization bias! Further investigations and root-cause analysis may be needed before we can gather any valid conclusions from this data."
   ]
  },
  {
   "cell_type": "markdown",
   "id": "4d5f9a7f-f675-4b48-9918-ed0e2d7e0434",
   "metadata": {},
   "source": [
    "Check the distribution of gender across checkout_page designs in the checkout dataset."
   ]
  },
  {
   "cell_type": "code",
   "execution_count": 117,
   "id": "a175abeb-29b8-4bce-8275-ca55343699f2",
   "metadata": {},
   "outputs": [
    {
     "data": {
      "text/plain": [
       "checkout_page  gender\n",
       "A              M         0.505000\n",
       "               F         0.495000\n",
       "B              F         0.507333\n",
       "               M         0.492667\n",
       "C              F         0.520333\n",
       "               M         0.479667\n",
       "Name: proportion, dtype: float64"
      ]
     },
     "execution_count": 117,
     "metadata": {},
     "output_type": "execute_result"
    }
   ],
   "source": [
    "checkout.groupby('checkout_page')['gender'].value_counts(normalize=True)"
   ]
  },
  {
   "cell_type": "markdown",
   "id": "74527ec6-349a-4440-b754-cfc33c39f194",
   "metadata": {},
   "source": [
    "# Analyzing difference in proportions A/B tests"
   ]
  },
  {
   "cell_type": "code",
   "execution_count": 129,
   "id": "faa2c68a-e783-4bba-ad1a-98bbe03bde03",
   "metadata": {},
   "outputs": [
    {
     "data": {
      "text/html": [
       "<div>\n",
       "<style scoped>\n",
       "    .dataframe tbody tr th:only-of-type {\n",
       "        vertical-align: middle;\n",
       "    }\n",
       "\n",
       "    .dataframe tbody tr th {\n",
       "        vertical-align: top;\n",
       "    }\n",
       "\n",
       "    .dataframe thead th {\n",
       "        text-align: right;\n",
       "    }\n",
       "</style>\n",
       "<table border=\"1\" class=\"dataframe\">\n",
       "  <thead>\n",
       "    <tr style=\"text-align: right;\">\n",
       "      <th></th>\n",
       "      <th>Unnamed: 0</th>\n",
       "      <th>user_id</th>\n",
       "      <th>checkout_page</th>\n",
       "      <th>order_value</th>\n",
       "      <th>purchased</th>\n",
       "      <th>gender</th>\n",
       "      <th>browser</th>\n",
       "      <th>time_on_page</th>\n",
       "    </tr>\n",
       "  </thead>\n",
       "  <tbody>\n",
       "    <tr>\n",
       "      <th>0</th>\n",
       "      <td>0</td>\n",
       "      <td>877621</td>\n",
       "      <td>A</td>\n",
       "      <td>29.410131</td>\n",
       "      <td>1</td>\n",
       "      <td>F</td>\n",
       "      <td>chrome</td>\n",
       "      <td>66.168628</td>\n",
       "    </tr>\n",
       "    <tr>\n",
       "      <th>1</th>\n",
       "      <td>1</td>\n",
       "      <td>876599</td>\n",
       "      <td>A</td>\n",
       "      <td>NaN</td>\n",
       "      <td>0</td>\n",
       "      <td>M</td>\n",
       "      <td>firefox</td>\n",
       "      <td>49.801887</td>\n",
       "    </tr>\n",
       "    <tr>\n",
       "      <th>2</th>\n",
       "      <td>2</td>\n",
       "      <td>905407</td>\n",
       "      <td>A</td>\n",
       "      <td>27.446845</td>\n",
       "      <td>1</td>\n",
       "      <td>M</td>\n",
       "      <td>chrome</td>\n",
       "      <td>56.744856</td>\n",
       "    </tr>\n",
       "    <tr>\n",
       "      <th>3</th>\n",
       "      <td>3</td>\n",
       "      <td>883562</td>\n",
       "      <td>A</td>\n",
       "      <td>30.602233</td>\n",
       "      <td>1</td>\n",
       "      <td>M</td>\n",
       "      <td>safari</td>\n",
       "      <td>71.890718</td>\n",
       "    </tr>\n",
       "    <tr>\n",
       "      <th>4</th>\n",
       "      <td>4</td>\n",
       "      <td>840542</td>\n",
       "      <td>A</td>\n",
       "      <td>29.668895</td>\n",
       "      <td>1</td>\n",
       "      <td>F</td>\n",
       "      <td>safari</td>\n",
       "      <td>67.410696</td>\n",
       "    </tr>\n",
       "  </tbody>\n",
       "</table>\n",
       "</div>"
      ],
      "text/plain": [
       "   Unnamed: 0  user_id checkout_page  order_value  purchased gender  browser  \\\n",
       "0           0   877621             A    29.410131          1      F   chrome   \n",
       "1           1   876599             A          NaN          0      M  firefox   \n",
       "2           2   905407             A    27.446845          1      M   chrome   \n",
       "3           3   883562             A    30.602233          1      M   safari   \n",
       "4           4   840542             A    29.668895          1      F   safari   \n",
       "\n",
       "   time_on_page  \n",
       "0     66.168628  \n",
       "1     49.801887  \n",
       "2     56.744856  \n",
       "3     71.890718  \n",
       "4     67.410696  "
      ]
     },
     "execution_count": 129,
     "metadata": {},
     "output_type": "execute_result"
    }
   ],
   "source": [
    "checkout.head()"
   ]
  },
  {
   "cell_type": "code",
   "execution_count": 151,
   "id": "a823c434-58db-4397-95bb-184b8578bf97",
   "metadata": {},
   "outputs": [
    {
     "name": "stdout",
     "output_type": "stream",
     "text": [
      "Group A users: 2940\n",
      "Group B users: 2938\n"
     ]
    }
   ],
   "source": [
    "from statsmodels.stats.proportion import proportions_ztest, proportion_confint\n",
    "\n",
    "# Calculate the number of users in groups A and B\n",
    "n_A = checkout[checkout['checkout_page'] == 'A']['user_id'].nunique()\n",
    "n_B = checkout[checkout['checkout_page'] == 'B']['user_id'].nunique()\n",
    "print('Group A users:',n_A)\n",
    "print('Group B users:',n_B)"
   ]
  },
  {
   "cell_type": "code",
   "execution_count": 155,
   "id": "e99fc137-2404-4787-a7aa-81157ee66198",
   "metadata": {},
   "outputs": [
    {
     "name": "stdout",
     "output_type": "stream",
     "text": [
      "Unique purchases for page A: 2414\n",
      "Unique purchases for page B: 2491\n"
     ]
    }
   ],
   "source": [
    "# Compute unique users whi purchased at least once\n",
    "purchased_A = checkout[checkout['checkout_page'] == 'A'].groupby('user_id')['purchased'].max().sum()\n",
    "purchased_B = checkout[checkout['checkout_page'] == 'B'].groupby('user_id')['purchased'].max().sum()\n",
    "\n",
    "print('Unique purchases for page A:', purchased_A )\n",
    "print('Unique purchases for page B:', purchased_B )"
   ]
  },
  {
   "cell_type": "code",
   "execution_count": 172,
   "id": "a1b7d0dd-7fcf-47bf-84aa-27564a124e7b",
   "metadata": {},
   "outputs": [
    {
     "name": "stdout",
     "output_type": "stream",
     "text": [
      "Observed Purchase rt for Page A: 0.821\n",
      "Observed Purchase rt for Page B: 0.848\n"
     ]
    }
   ],
   "source": [
    "print('Observed Purchase rt for Page A:', round(purchased_A/n_A,3))\n",
    "print('Observed Purchase rt for Page B:', round(purchased_B/n_B,3))"
   ]
  },
  {
   "cell_type": "code",
   "execution_count": 153,
   "id": "05d42392-f2f3-4934-9318-00aaefbc83b7",
   "metadata": {},
   "outputs": [],
   "source": [
    "purchased_abtest = [purchased_A, purchased_B]\n",
    "n_abtest = [n_A, n_B]"
   ]
  },
  {
   "cell_type": "code",
   "execution_count": 159,
   "id": "781868be-a894-4c9c-857f-41069f62ab93",
   "metadata": {},
   "outputs": [
    {
     "name": "stdout",
     "output_type": "stream",
     "text": [
      "p-value: 0.0058\n",
      "Group A 95% CI : [0.8072, 0.8349]\n",
      "Group B 95% CI : [0.8349, 0.8608]\n"
     ]
    }
   ],
   "source": [
    "# Calculate the z_stat, p-value, and 95% confidence intervals\n",
    "z_stat, pvalue = proportions_ztest(purchased_abtest, nobs=n_abtest)\n",
    "(A_lo95, B_lo95), (A_up95, B_up95) = proportion_confint(purchased_abtest, nobs=n_abtest, alpha=0.05)\n",
    "\n",
    "print(f'p-value: {pvalue:.4f}')\n",
    "print(f'Group A 95% CI : [{A_lo95:.4f}, {A_up95:.4f}]')\n",
    "print(f'Group B 95% CI : [{B_lo95:.4f}, {B_up95:.4f}]')"
   ]
  },
  {
   "cell_type": "markdown",
   "id": "625b94d2-a6f6-429d-bf88-ed54b46f2322",
   "metadata": {},
   "source": [
    "p-value: 0.0058: As mentioned earlier, the p-value is a measure of the strength of the evidence against the null hypothesis. A p-value of 0.0058 indicates that there is strong evidence against the null hypothesis. It suggests that the results are statistically significant and unlikely to have occurred by chance.\n",
    "\n",
    "Group A 95% CI : [0.8072, 0.8349]: This represents the 95% confidence interval for the true population parameter of Group A. The interval [0.8072, 0.8349] indicates that we are 95% confident that the true parameter value for Group A falls within this range.\n",
    "\n",
    "Group B 95% CI : [0.8349, 0.8608]: Similarly, this represents the 95% confidence interval for the true population parameter of Group B. The interval [0.8349, 0.8608] suggests that we are 95% confident that the true parameter value for Group B falls within this range.\n",
    "\n",
    "In summary, the p-value indicates the significance of the results, and the confidence intervals provide ranges of values within which we believe the true parameter values for Group A and Group B lie. The narrowness or width of the confidence intervals can also provide insights into the precision of the estimates for each group.\n",
    "\n",
    "**So we Reject the Null hypothesis that check out  pages A and B have the same signup rate**"
   ]
  },
  {
   "cell_type": "markdown",
   "id": "440f4f9d-2a38-4b92-932c-bd3b9f4fd018",
   "metadata": {},
   "source": []
  },
  {
   "cell_type": "code",
   "execution_count": 180,
   "id": "6a9ea5d4-0fae-40b7-8456-8381ab4ef47f",
   "metadata": {},
   "outputs": [
    {
     "data": {
      "text/plain": [
       "0.8203333333333334"
      ]
     },
     "execution_count": 180,
     "metadata": {},
     "output_type": "execute_result"
    }
   ],
   "source": [
    "#Assuming our whole population is the users in checkout_page 'A', calculate the mean purchase rate.\n",
    "pop_mean = checkout[checkout['checkout_page'] == 'A']['purchased'].mean()\n",
    "pop_mean"
   ]
  },
  {
   "cell_type": "code",
   "execution_count": 182,
   "id": "5a7efed2-ad7e-4b17-a218-327418fdda4f",
   "metadata": {},
   "outputs": [
    {
     "name": "stdout",
     "output_type": "stream",
     "text": [
      "(0.6897510764476065, 0.8302489235523935)\n",
      "(0.7118625465164149, 0.8481374534835852)\n",
      "(0.7796986699789777, 0.9003013300210222)\n",
      "(0.6787757486776527, 0.8212242513223473)\n",
      "(0.7912669777384846, 0.9087330222615153)\n",
      "(0.7912669777384846, 0.9087330222615153)\n",
      "(0.7342058549219411, 0.865794145078059)\n",
      "(0.7682139027472309, 0.891786097252769)\n",
      "(0.7118625465164149, 0.8481374534835852)\n",
      "(0.6787757486776527, 0.8212242513223473)\n",
      "(0.7342058549219411, 0.865794145078059)\n",
      "(0.7118625465164149, 0.8481374534835852)\n",
      "(0.8385342148455946, 0.9414657851544054)\n",
      "(0.8146830076144598, 0.9253169923855402)\n",
      "(0.7342058549219411, 0.865794145078059)\n",
      "(0.7230037568938057, 0.8569962431061944)\n",
      "(0.8146830076144598, 0.9253169923855402)\n",
      "(0.7682139027472309, 0.891786097252769)\n",
      "(0.7342058549219411, 0.865794145078059)\n",
      "(0.8146830076144598, 0.9253169923855402)\n"
     ]
    }
   ],
   "source": [
    "# Calculate 20 90% confidence intervals for 20 random samples of size 100 each\n",
    "for i in range(20):\n",
    "    confidence_interval = proportion_confint(\n",
    "    \tcount=checkout[checkout['checkout_page'] == 'A'].sample(100)['purchased'].sum(), \n",
    "      \tnobs=100, \n",
    "      \talpha=(1 - 0.90))\n",
    "    print(confidence_interval)"
   ]
  },
  {
   "cell_type": "code",
   "execution_count": 186,
   "id": "2b7f1220-e5b1-4524-aa51-84f661104a04",
   "metadata": {},
   "outputs": [
    {
     "name": "stdout",
     "output_type": "stream",
     "text": [
      "(0.8051198474327259, 0.8148801525672742)\n",
      "(0.774846850628234, 0.7851531493717661)\n",
      "(0.8152207772971063, 0.8247792227028936)\n",
      "(0.7647649194284818, 0.7752350805715182)\n",
      "(0.7950240720772379, 0.8049759279227622)\n",
      "(0.7144145347595227, 0.7255854652404773)\n",
      "(0.7950240720772379, 0.8049759279227622)\n",
      "(0.85568354385333, 0.86431645614667)\n",
      "(0.8658164458754214, 0.8741835541245786)\n",
      "(0.8253271956616535, 0.8346728043383465)\n",
      "(0.8253271956616535, 0.8346728043383465)\n",
      "(0.774846850628234, 0.7851531493717661)\n",
      "(0.7950240720772379, 0.8049759279227622)\n",
      "(0.7950240720772379, 0.8049759279227622)\n",
      "(0.774846850628234, 0.7851531493717661)\n",
      "(0.85568354385333, 0.86431645614667)\n",
      "(0.8759575370456779, 0.8840424629543221)\n",
      "(0.8152207772971063, 0.8247792227028936)\n",
      "(0.7950240720772379, 0.8049759279227622)\n",
      "(0.7849331589247529, 0.7950668410752472)\n"
     ]
    }
   ],
   "source": [
    "# Calculate 20 99% confidence intervals for 20 random samples of size 100 each\n",
    "for i in range(20):\n",
    "    confidence_interval = proportion_confint(\n",
    "    \tcount=checkout[checkout['checkout_page'] == 'A'].sample(100)['purchased'].sum(), \n",
    "      \tnobs=100, \n",
    "      \talpha=(1 - .099))\n",
    "    print(confidence_interval)"
   ]
  },
  {
   "cell_type": "code",
   "execution_count": null,
   "id": "d95e2a73-2d6b-47a0-b32c-8a66b1432b80",
   "metadata": {},
   "outputs": [],
   "source": []
  }
 ],
 "metadata": {
  "kernelspec": {
   "display_name": "Python 3 (ipykernel)",
   "language": "python",
   "name": "python3"
  },
  "language_info": {
   "codemirror_mode": {
    "name": "ipython",
    "version": 3
   },
   "file_extension": ".py",
   "mimetype": "text/x-python",
   "name": "python",
   "nbconvert_exporter": "python",
   "pygments_lexer": "ipython3",
   "version": "3.12.4"
  }
 },
 "nbformat": 4,
 "nbformat_minor": 5
}
