{
 "cells": [
  {
   "cell_type": "markdown",
   "id": "ae8f441c-9167-4056-bf61-9af7bcdbdd60",
   "metadata": {},
   "source": [
    "**T-test for difference in means**\n",
    "\n",
    "\n",
    "Running these set of experiments to decide which checkout page design yields higher order value and fastest purchase decision time."
   ]
  },
  {
   "cell_type": "code",
   "execution_count": 10,
   "id": "78cb6ae4-bc4d-407b-a646-4f4620d0bd88",
   "metadata": {},
   "outputs": [],
   "source": [
    "import pingouin\n",
    "import pandas as pd\n",
    "import numpy as np\n",
    "import seaborn as sns\n",
    "import matplotlib.pyplot as plt\n",
    "\n",
    "checkout = pd.read_csv(r'//Users//EJEGUS//Desktop//AB Testing DataCamp//checkout.csv')"
   ]
  },
  {
   "cell_type": "code",
   "execution_count": 12,
   "id": "1fb27861-ee76-4342-9c47-3054ad7fc7e3",
   "metadata": {},
   "outputs": [
    {
     "data": {
      "text/html": [
       "<div>\n",
       "<style scoped>\n",
       "    .dataframe tbody tr th:only-of-type {\n",
       "        vertical-align: middle;\n",
       "    }\n",
       "\n",
       "    .dataframe tbody tr th {\n",
       "        vertical-align: top;\n",
       "    }\n",
       "\n",
       "    .dataframe thead th {\n",
       "        text-align: right;\n",
       "    }\n",
       "</style>\n",
       "<table border=\"1\" class=\"dataframe\">\n",
       "  <thead>\n",
       "    <tr style=\"text-align: right;\">\n",
       "      <th></th>\n",
       "      <th>Unnamed: 0</th>\n",
       "      <th>user_id</th>\n",
       "      <th>checkout_page</th>\n",
       "      <th>order_value</th>\n",
       "      <th>purchased</th>\n",
       "      <th>gender</th>\n",
       "      <th>browser</th>\n",
       "      <th>time_on_page</th>\n",
       "    </tr>\n",
       "  </thead>\n",
       "  <tbody>\n",
       "    <tr>\n",
       "      <th>0</th>\n",
       "      <td>0</td>\n",
       "      <td>877621</td>\n",
       "      <td>A</td>\n",
       "      <td>29.410131</td>\n",
       "      <td>1</td>\n",
       "      <td>F</td>\n",
       "      <td>chrome</td>\n",
       "      <td>66.168628</td>\n",
       "    </tr>\n",
       "    <tr>\n",
       "      <th>1</th>\n",
       "      <td>1</td>\n",
       "      <td>876599</td>\n",
       "      <td>A</td>\n",
       "      <td>NaN</td>\n",
       "      <td>0</td>\n",
       "      <td>M</td>\n",
       "      <td>firefox</td>\n",
       "      <td>49.801887</td>\n",
       "    </tr>\n",
       "    <tr>\n",
       "      <th>2</th>\n",
       "      <td>2</td>\n",
       "      <td>905407</td>\n",
       "      <td>A</td>\n",
       "      <td>27.446845</td>\n",
       "      <td>1</td>\n",
       "      <td>M</td>\n",
       "      <td>chrome</td>\n",
       "      <td>56.744856</td>\n",
       "    </tr>\n",
       "    <tr>\n",
       "      <th>3</th>\n",
       "      <td>3</td>\n",
       "      <td>883562</td>\n",
       "      <td>A</td>\n",
       "      <td>30.602233</td>\n",
       "      <td>1</td>\n",
       "      <td>M</td>\n",
       "      <td>safari</td>\n",
       "      <td>71.890718</td>\n",
       "    </tr>\n",
       "    <tr>\n",
       "      <th>4</th>\n",
       "      <td>4</td>\n",
       "      <td>840542</td>\n",
       "      <td>A</td>\n",
       "      <td>29.668895</td>\n",
       "      <td>1</td>\n",
       "      <td>F</td>\n",
       "      <td>safari</td>\n",
       "      <td>67.410696</td>\n",
       "    </tr>\n",
       "  </tbody>\n",
       "</table>\n",
       "</div>"
      ],
      "text/plain": [
       "   Unnamed: 0  user_id checkout_page  order_value  purchased gender  browser  \\\n",
       "0           0   877621             A    29.410131          1      F   chrome   \n",
       "1           1   876599             A          NaN          0      M  firefox   \n",
       "2           2   905407             A    27.446845          1      M   chrome   \n",
       "3           3   883562             A    30.602233          1      M   safari   \n",
       "4           4   840542             A    29.668895          1      F   safari   \n",
       "\n",
       "   time_on_page  \n",
       "0     66.168628  \n",
       "1     49.801887  \n",
       "2     56.744856  \n",
       "3     71.890718  \n",
       "4     67.410696  "
      ]
     },
     "execution_count": 12,
     "metadata": {},
     "output_type": "execute_result"
    }
   ],
   "source": [
    "checkout.head()"
   ]
  },
  {
   "cell_type": "code",
   "execution_count": 57,
   "id": "fc79dba7-9b19-47df-ad86-b02c2057aedf",
   "metadata": {},
   "outputs": [
    {
     "name": "stdout",
     "output_type": "stream",
     "text": [
      "avg order value: checkout_page\n",
      "A    24.956437\n",
      "B    29.876202\n",
      "C    34.917589\n",
      "Name: order_value, dtype: float64\n"
     ]
    }
   ],
   "source": [
    "# Calculate the mean order_value per variant, and run a t-test for difference in order_value between variants A and B.\n",
    "\n",
    "print ('avg order value:', checkout.groupby('checkout_page')['order_value'].mean())"
   ]
  },
  {
   "cell_type": "code",
   "execution_count": 24,
   "id": "a67ff35e-9c1c-4813-b44a-b4f10f334abf",
   "metadata": {},
   "outputs": [
    {
     "data": {
      "text/html": [
       "<div>\n",
       "<style scoped>\n",
       "    .dataframe tbody tr th:only-of-type {\n",
       "        vertical-align: middle;\n",
       "    }\n",
       "\n",
       "    .dataframe tbody tr th {\n",
       "        vertical-align: top;\n",
       "    }\n",
       "\n",
       "    .dataframe thead th {\n",
       "        text-align: right;\n",
       "    }\n",
       "</style>\n",
       "<table border=\"1\" class=\"dataframe\">\n",
       "  <thead>\n",
       "    <tr style=\"text-align: right;\">\n",
       "      <th></th>\n",
       "      <th>T</th>\n",
       "      <th>dof</th>\n",
       "      <th>alternative</th>\n",
       "      <th>p-val</th>\n",
       "      <th>CI95%</th>\n",
       "      <th>cohen-d</th>\n",
       "      <th>BF10</th>\n",
       "      <th>power</th>\n",
       "    </tr>\n",
       "  </thead>\n",
       "  <tbody>\n",
       "    <tr>\n",
       "      <th>T-test</th>\n",
       "      <td>-32.285094</td>\n",
       "      <td>3110.673039</td>\n",
       "      <td>two-sided</td>\n",
       "      <td>1.772895e-197</td>\n",
       "      <td>[-5.22, -4.62]</td>\n",
       "      <td>0.901468</td>\n",
       "      <td>5.07e+203</td>\n",
       "      <td>1.0</td>\n",
       "    </tr>\n",
       "  </tbody>\n",
       "</table>\n",
       "</div>"
      ],
      "text/plain": [
       "                T          dof alternative          p-val           CI95%  \\\n",
       "T-test -32.285094  3110.673039   two-sided  1.772895e-197  [-5.22, -4.62]   \n",
       "\n",
       "         cohen-d       BF10  power  \n",
       "T-test  0.901468  5.07e+203    1.0  "
      ]
     },
     "execution_count": 24,
     "metadata": {},
     "output_type": "execute_result"
    }
   ],
   "source": [
    "# H0: A mean = b mean (order value)\n",
    "# HA: A mean != b mean (order value)\n",
    "ttest = pingouin.ttest(x=checkout[checkout['checkout_page']=='A']['order_value'], \n",
    "                       y=checkout[checkout['checkout_page']=='B']['order_value'],\n",
    "                       paired=False,\n",
    "                       alternative=\"two-sided\")\n",
    "ttest"
   ]
  },
  {
   "cell_type": "markdown",
   "id": "569b72d3-9015-40e4-b5d1-99534744af1b",
   "metadata": {},
   "source": [
    "The results of the t-test comparing the order values between checkout page 'A' and checkout page 'B' are as follows:\n",
    "\n",
    "T: The T-statistic value is -32.285094.\n",
    "\n",
    "dof: The degrees of freedom for the test are 3110.673039.\n",
    "\n",
    "alternative: The alternative hypothesis specified for the test is two-sided.\n",
    "\n",
    "p-val: The p-value obtained from the test is 1.772895e-197, which is extremely low.\n",
    "\n",
    "CI95%: The 95% confidence interval for the difference in means between the two groups is [-5.22, -4.62].\n",
    "\n",
    "cohen-d: The effect size (Cohen's d) is 0.901468, indicating a large effect size.\n",
    "\n",
    "BF10: The Bayes Factor is 5.07e+203, providing strong evidence in favor of the alternative hypothesis.\n",
    "\n",
    "power: The statistical power of the test is 1.0, indicating a high probability of correctly rejecting the null hypothesis when it is false.\n",
    "\n",
    "Overall, the results suggest that there is a significant difference in order values between checkout page 'A' and checkout page 'B'. The extremely low p-value, large effect size, and high statistical power indicate strong evidence against the null hypothesis and support the conclusion that there is a significant difference in order values between the two checkout pages.\n",
    "\n"
   ]
  },
  {
   "cell_type": "code",
   "execution_count": 59,
   "id": "61b6f2ff-8159-4e4a-a80b-d039745f20b1",
   "metadata": {},
   "outputs": [
    {
     "name": "stdout",
     "output_type": "stream",
     "text": [
      "avg time on page: checkout_page\n",
      "A    44.668527\n",
      "B    42.723772\n",
      "C    42.223772\n",
      "Name: time_on_page, dtype: float64\n"
     ]
    }
   ],
   "source": [
    "# Calculate the mean time_on_page per variant, run a t-test for its difference between variants A and B,\n",
    "# and note the p-value and confidence interval of the difference. Will you reject the Null hypothesis?\n",
    "\n",
    "print ('avg time on page:', checkout.groupby('checkout_page')['time_on_page'].mean() ) "
   ]
  },
  {
   "cell_type": "code",
   "execution_count": 28,
   "id": "52019808-11da-4200-a77d-0e978ae04d1d",
   "metadata": {},
   "outputs": [
    {
     "data": {
      "text/html": [
       "<div>\n",
       "<style scoped>\n",
       "    .dataframe tbody tr th:only-of-type {\n",
       "        vertical-align: middle;\n",
       "    }\n",
       "\n",
       "    .dataframe tbody tr th {\n",
       "        vertical-align: top;\n",
       "    }\n",
       "\n",
       "    .dataframe thead th {\n",
       "        text-align: right;\n",
       "    }\n",
       "</style>\n",
       "<table border=\"1\" class=\"dataframe\">\n",
       "  <thead>\n",
       "    <tr style=\"text-align: right;\">\n",
       "      <th></th>\n",
       "      <th>T</th>\n",
       "      <th>dof</th>\n",
       "      <th>alternative</th>\n",
       "      <th>p-val</th>\n",
       "      <th>CI95%</th>\n",
       "      <th>cohen-d</th>\n",
       "      <th>BF10</th>\n",
       "      <th>power</th>\n",
       "    </tr>\n",
       "  </thead>\n",
       "  <tbody>\n",
       "    <tr>\n",
       "      <th>T-test</th>\n",
       "      <td>7.026673</td>\n",
       "      <td>5998</td>\n",
       "      <td>two-sided</td>\n",
       "      <td>2.349604e-12</td>\n",
       "      <td>[1.4, 2.49]</td>\n",
       "      <td>0.181428</td>\n",
       "      <td>1.305e+09</td>\n",
       "      <td>1.0</td>\n",
       "    </tr>\n",
       "  </tbody>\n",
       "</table>\n",
       "</div>"
      ],
      "text/plain": [
       "               T   dof alternative         p-val        CI95%   cohen-d  \\\n",
       "T-test  7.026673  5998   two-sided  2.349604e-12  [1.4, 2.49]  0.181428   \n",
       "\n",
       "             BF10  power  \n",
       "T-test  1.305e+09    1.0  "
      ]
     },
     "execution_count": 28,
     "metadata": {},
     "output_type": "execute_result"
    }
   ],
   "source": [
    "# H0: A mean = b mean (time on page)\n",
    "# HA: A mean != b mean (time on page)\n",
    "ttest = pingouin.ttest(x=checkout[checkout['checkout_page']=='A']['time_on_page'], \n",
    "                       y=checkout[checkout['checkout_page']=='B']['time_on_page'],\n",
    "                       paired=False,\n",
    "                       alternative=\"two-sided\")\n",
    "ttest"
   ]
  },
  {
   "cell_type": "code",
   "execution_count": 38,
   "id": "58584004-d5c5-4a49-814d-0561c9cad1f2",
   "metadata": {},
   "outputs": [
    {
     "data": {
      "text/html": [
       "<div>\n",
       "<style scoped>\n",
       "    .dataframe tbody tr th:only-of-type {\n",
       "        vertical-align: middle;\n",
       "    }\n",
       "\n",
       "    .dataframe tbody tr th {\n",
       "        vertical-align: top;\n",
       "    }\n",
       "\n",
       "    .dataframe thead th {\n",
       "        text-align: right;\n",
       "    }\n",
       "</style>\n",
       "<table border=\"1\" class=\"dataframe\">\n",
       "  <thead>\n",
       "    <tr style=\"text-align: right;\">\n",
       "      <th></th>\n",
       "      <th>T</th>\n",
       "      <th>dof</th>\n",
       "      <th>alternative</th>\n",
       "      <th>p-val</th>\n",
       "      <th>CI95%</th>\n",
       "      <th>cohen-d</th>\n",
       "      <th>BF10</th>\n",
       "      <th>power</th>\n",
       "    </tr>\n",
       "  </thead>\n",
       "  <tbody>\n",
       "    <tr>\n",
       "      <th>T-test</th>\n",
       "      <td>8.833244</td>\n",
       "      <td>5998</td>\n",
       "      <td>two-sided</td>\n",
       "      <td>1.316118e-18</td>\n",
       "      <td>[1.9, 2.99]</td>\n",
       "      <td>0.228073</td>\n",
       "      <td>1.811e+15</td>\n",
       "      <td>1.0</td>\n",
       "    </tr>\n",
       "  </tbody>\n",
       "</table>\n",
       "</div>"
      ],
      "text/plain": [
       "               T   dof alternative         p-val        CI95%   cohen-d  \\\n",
       "T-test  8.833244  5998   two-sided  1.316118e-18  [1.9, 2.99]  0.228073   \n",
       "\n",
       "             BF10  power  \n",
       "T-test  1.811e+15    1.0  "
      ]
     },
     "execution_count": 38,
     "metadata": {},
     "output_type": "execute_result"
    }
   ],
   "source": [
    "# Calculate the mean time_on_page per variant, run a t-test for its difference between variants A and C, and note the p-value \n",
    "# and confidence interval of the difference. Will you reject the Null hypothesis?\n",
    "\n",
    "ttest = pingouin.ttest(x=checkout[checkout['checkout_page']=='A']['time_on_page'], \n",
    "                       y=checkout[checkout['checkout_page']=='C']['time_on_page'],\n",
    "                       paired=False,\n",
    "                       alternative=\"two-sided\")\n",
    "ttest"
   ]
  },
  {
   "cell_type": "markdown",
   "id": "41766578-8cb3-46e7-b1fc-8ab2c817e6bf",
   "metadata": {},
   "source": [
    "All of the differences were statistically significant with page design C having the highest order_value and shortest time_on_page. But notice how we made multiple comparisons and analyzed multiple metrics using the same experiment data. Is there something we need to account for?"
   ]
  },
  {
   "cell_type": "markdown",
   "id": "ded2c3f6-03b4-4baf-8bc9-38c7ff7aa52a",
   "metadata": {},
   "source": [
    "## Pairwise t-tests"
   ]
  },
  {
   "cell_type": "markdown",
   "id": "92b25443-90c9-44cb-b0db-36fb109650b7",
   "metadata": {},
   "source": [
    "Manually running separate comparisons using individual t-tests can be a pain as the number of groups gets larger. Thankfully, the pingouin package's .pairwise_tests() method can make things easier.\n"
   ]
  },
  {
   "cell_type": "code",
   "execution_count": 50,
   "id": "25ae952a-5f3e-4aae-8d64-88d622ac88c0",
   "metadata": {},
   "outputs": [
    {
     "data": {
      "text/html": [
       "<div>\n",
       "<style scoped>\n",
       "    .dataframe tbody tr th:only-of-type {\n",
       "        vertical-align: middle;\n",
       "    }\n",
       "\n",
       "    .dataframe tbody tr th {\n",
       "        vertical-align: top;\n",
       "    }\n",
       "\n",
       "    .dataframe thead th {\n",
       "        text-align: right;\n",
       "    }\n",
       "</style>\n",
       "<table border=\"1\" class=\"dataframe\">\n",
       "  <thead>\n",
       "    <tr style=\"text-align: right;\">\n",
       "      <th></th>\n",
       "      <th>Contrast</th>\n",
       "      <th>A</th>\n",
       "      <th>B</th>\n",
       "      <th>Paired</th>\n",
       "      <th>Parametric</th>\n",
       "      <th>T</th>\n",
       "      <th>dof</th>\n",
       "      <th>alternative</th>\n",
       "      <th>p-unc</th>\n",
       "      <th>p-corr</th>\n",
       "      <th>p-adjust</th>\n",
       "      <th>BF10</th>\n",
       "      <th>hedges</th>\n",
       "    </tr>\n",
       "  </thead>\n",
       "  <tbody>\n",
       "    <tr>\n",
       "      <th>0</th>\n",
       "      <td>checkout_page</td>\n",
       "      <td>A</td>\n",
       "      <td>B</td>\n",
       "      <td>False</td>\n",
       "      <td>True</td>\n",
       "      <td>7.026673</td>\n",
       "      <td>5998.0</td>\n",
       "      <td>two-sided</td>\n",
       "      <td>2.349604e-12</td>\n",
       "      <td>7.048812e-12</td>\n",
       "      <td>bonf</td>\n",
       "      <td>1.305e+09</td>\n",
       "      <td>0.181405</td>\n",
       "    </tr>\n",
       "    <tr>\n",
       "      <th>1</th>\n",
       "      <td>checkout_page</td>\n",
       "      <td>A</td>\n",
       "      <td>C</td>\n",
       "      <td>False</td>\n",
       "      <td>True</td>\n",
       "      <td>8.833244</td>\n",
       "      <td>5998.0</td>\n",
       "      <td>two-sided</td>\n",
       "      <td>1.316118e-18</td>\n",
       "      <td>3.948354e-18</td>\n",
       "      <td>bonf</td>\n",
       "      <td>1.811e+15</td>\n",
       "      <td>0.228045</td>\n",
       "    </tr>\n",
       "    <tr>\n",
       "      <th>2</th>\n",
       "      <td>checkout_page</td>\n",
       "      <td>B</td>\n",
       "      <td>C</td>\n",
       "      <td>False</td>\n",
       "      <td>True</td>\n",
       "      <td>1.995423</td>\n",
       "      <td>5998.0</td>\n",
       "      <td>two-sided</td>\n",
       "      <td>4.604195e-02</td>\n",
       "      <td>1.381258e-01</td>\n",
       "      <td>bonf</td>\n",
       "      <td>0.212</td>\n",
       "      <td>0.051515</td>\n",
       "    </tr>\n",
       "  </tbody>\n",
       "</table>\n",
       "</div>"
      ],
      "text/plain": [
       "        Contrast  A  B  Paired  Parametric         T     dof alternative  \\\n",
       "0  checkout_page  A  B   False        True  7.026673  5998.0   two-sided   \n",
       "1  checkout_page  A  C   False        True  8.833244  5998.0   two-sided   \n",
       "2  checkout_page  B  C   False        True  1.995423  5998.0   two-sided   \n",
       "\n",
       "          p-unc        p-corr p-adjust       BF10    hedges  \n",
       "0  2.349604e-12  7.048812e-12     bonf  1.305e+09  0.181405  \n",
       "1  1.316118e-18  3.948354e-18     bonf  1.811e+15  0.228045  \n",
       "2  4.604195e-02  1.381258e-01     bonf      0.212  0.051515  "
      ]
     },
     "execution_count": 50,
     "metadata": {},
     "output_type": "execute_result"
    }
   ],
   "source": [
    "# Perform a pairwise t-test on signup, grouped by landing-page\n",
    "pairwise = pingouin.pairwise_tests(data=checkout,\n",
    "                                   dv=\"time_on_page\",\n",
    "                                   between=\"checkout_page\",\n",
    "                                   padjust=\"bonf\")\n",
    "\n",
    "pairwise"
   ]
  },
  {
   "cell_type": "markdown",
   "id": "c21b9eec-fc2c-4ab2-93a9-8404aff53d4e",
   "metadata": {},
   "source": [
    "Based on the results provided in the output for the pairwise comparisons between checkout pages A, B, and C, we can make the following conclusions:\n",
    "\n",
    "A vs. B Comparison:\n",
    "\n",
    "The time spent on checkout page A is significantly different from the time spent on checkout page B (p < 0.001).\n",
    "The effect size (Cohen's d) for this comparison is small (0.181), indicating a relatively small difference between the two groups.\n",
    "A vs. C Comparison:\n",
    "\n",
    "The time spent on checkout page A is significantly different from the time spent on checkout page C (p < 0.001).\n",
    "The effect size (Cohen's d) for this comparison is small to medium (0.228), indicating a slightly larger difference compared to the A vs. B comparison.\n",
    "B vs. C Comparison:\n",
    "\n",
    "The time spent on checkout page B is not significantly different from the time spent on checkout page C (p = 0.046).\n",
    "The effect size (Cohen's d) for this comparison is small (0.051), suggesting a small difference between the two groups.\n",
    "Overall, the results suggest that there are significant differences in the time spent on checkout pages A and C compared to checkout page B. However, there is no significant difference between the time spent on checkout pages B and C. The effect sizes indicate that the differences observed are relatively small to medium in magnitude."
   ]
  },
  {
   "cell_type": "markdown",
   "id": "b91443a6-43c4-4aab-aa47-a305ffa030d8",
   "metadata": {},
   "source": [
    "# Non-parametric statistical tests"
   ]
  },
  {
   "cell_type": "markdown",
   "id": "dfa65720-2351-439f-be90-77966c61036f",
   "metadata": {},
   "source": [
    "A non-parametric statistical test is a type of hypothesis test that does not make assumptions about the distribution of the data being analyzed. Unlike parametric tests, which assume that the data follows a specific distribution (e.g., normal distribution), non-parametric tests are distribution-free and are used when the data does not meet the assumptions of parametric tests."
   ]
  },
  {
   "cell_type": "code",
   "execution_count": 98,
   "id": "d6ac40c4-6b41-44f8-bb05-823834bb9880",
   "metadata": {},
   "outputs": [
    {
     "name": "stdout",
     "output_type": "stream",
     "text": [
      "                    mean  count\n",
      "checkout_page                  \n",
      "A              44.668527   3000\n",
      "B              42.723772   3000\n",
      "C              42.223772   3000\n"
     ]
    }
   ],
   "source": [
    "# Calculate the mean and count of time on page by variant\n",
    "print(checkout.groupby('checkout_page')['time_on_page'].agg({'mean','count'}))"
   ]
  },
  {
   "cell_type": "code",
   "execution_count": 114,
   "id": "c465c16a-2b2b-4636-a4a2-2ef6c781453b",
   "metadata": {},
   "outputs": [],
   "source": [
    "# purposly take a sample < 30 to fail the parametric test assumptions. Take a random sample of size 25 from each variant\n",
    "np.random.seed(40)\n",
    "\n",
    "ToP_samp_B = checkout[checkout['checkout_page'] == 'B'].sample(25)['time_on_page']\n",
    "ToP_samp_C = checkout[checkout['checkout_page'] == 'C'].sample(25)['time_on_page']"
   ]
  },
  {
   "cell_type": "code",
   "execution_count": 116,
   "id": "6dc209f7-3e45-4660-8dc1-176b0dab30be",
   "metadata": {},
   "outputs": [
    {
     "data": {
      "text/html": [
       "<div>\n",
       "<style scoped>\n",
       "    .dataframe tbody tr th:only-of-type {\n",
       "        vertical-align: middle;\n",
       "    }\n",
       "\n",
       "    .dataframe tbody tr th {\n",
       "        vertical-align: top;\n",
       "    }\n",
       "\n",
       "    .dataframe thead th {\n",
       "        text-align: right;\n",
       "    }\n",
       "</style>\n",
       "<table border=\"1\" class=\"dataframe\">\n",
       "  <thead>\n",
       "    <tr style=\"text-align: right;\">\n",
       "      <th></th>\n",
       "      <th>U-val</th>\n",
       "      <th>alternative</th>\n",
       "      <th>p-val</th>\n",
       "      <th>RBC</th>\n",
       "      <th>CLES</th>\n",
       "    </tr>\n",
       "  </thead>\n",
       "  <tbody>\n",
       "    <tr>\n",
       "      <th>MWU</th>\n",
       "      <td>416.0</td>\n",
       "      <td>two-sided</td>\n",
       "      <td>0.045663</td>\n",
       "      <td>0.3312</td>\n",
       "      <td>0.6656</td>\n",
       "    </tr>\n",
       "  </tbody>\n",
       "</table>\n",
       "</div>"
      ],
      "text/plain": [
       "     U-val alternative     p-val     RBC    CLES\n",
       "MWU  416.0   two-sided  0.045663  0.3312  0.6656"
      ]
     },
     "execution_count": 116,
     "metadata": {},
     "output_type": "execute_result"
    }
   ],
   "source": [
    "# Run a Mann-Whitney U test\n",
    "mwu_test = pingouin.mwu(x=ToP_samp_B,\n",
    "                        y=ToP_samp_C,\n",
    "                        alternative='two-sided')\n",
    "\n",
    "mwu_test"
   ]
  },
  {
   "cell_type": "markdown",
   "id": "50be6b38-572c-4573-b6fe-bb69fa5ebb32",
   "metadata": {},
   "source": [
    "The p-value of 0.046 suggests the decision to reject or fail to reject the the Null hypothesis that the sample means are drawn from the same distribution may need to include other factors."
   ]
  },
  {
   "cell_type": "code",
   "execution_count": null,
   "id": "8e6e9955-6e5c-4244-8083-3b76ea5d15fe",
   "metadata": {},
   "outputs": [],
   "source": []
  }
 ],
 "metadata": {
  "kernelspec": {
   "display_name": "Python 3 (ipykernel)",
   "language": "python",
   "name": "python3"
  },
  "language_info": {
   "codemirror_mode": {
    "name": "ipython",
    "version": 3
   },
   "file_extension": ".py",
   "mimetype": "text/x-python",
   "name": "python",
   "nbconvert_exporter": "python",
   "pygments_lexer": "ipython3",
   "version": "3.12.4"
  }
 },
 "nbformat": 4,
 "nbformat_minor": 5
}
