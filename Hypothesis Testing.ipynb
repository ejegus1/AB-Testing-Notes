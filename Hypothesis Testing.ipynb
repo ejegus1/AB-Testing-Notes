{
 "cells": [
  {
   "cell_type": "code",
   "execution_count": 12,
   "id": "04cb84ca-851d-4a51-8c80-544d549fae8a",
   "metadata": {},
   "outputs": [],
   "source": [
    "import pandas as pd\n",
    "\n",
    "\n",
    "late_shipments = pd.read_feather('late_shipments.feather')"
   ]
  },
  {
   "cell_type": "code",
   "execution_count": 14,
   "id": "fb5ae70b-dd7c-462e-922d-0c4e0df74207",
   "metadata": {},
   "outputs": [
    {
     "data": {
      "text/html": [
       "<div>\n",
       "<style scoped>\n",
       "    .dataframe tbody tr th:only-of-type {\n",
       "        vertical-align: middle;\n",
       "    }\n",
       "\n",
       "    .dataframe tbody tr th {\n",
       "        vertical-align: top;\n",
       "    }\n",
       "\n",
       "    .dataframe thead th {\n",
       "        text-align: right;\n",
       "    }\n",
       "</style>\n",
       "<table border=\"1\" class=\"dataframe\">\n",
       "  <thead>\n",
       "    <tr style=\"text-align: right;\">\n",
       "      <th></th>\n",
       "      <th>id</th>\n",
       "      <th>country</th>\n",
       "      <th>managed_by</th>\n",
       "      <th>fulfill_via</th>\n",
       "      <th>vendor_inco_term</th>\n",
       "      <th>shipment_mode</th>\n",
       "      <th>late_delivery</th>\n",
       "      <th>late</th>\n",
       "      <th>product_group</th>\n",
       "      <th>sub_classification</th>\n",
       "      <th>...</th>\n",
       "      <th>line_item_quantity</th>\n",
       "      <th>line_item_value</th>\n",
       "      <th>pack_price</th>\n",
       "      <th>unit_price</th>\n",
       "      <th>manufacturing_site</th>\n",
       "      <th>first_line_designation</th>\n",
       "      <th>weight_kilograms</th>\n",
       "      <th>freight_cost_usd</th>\n",
       "      <th>freight_cost_groups</th>\n",
       "      <th>line_item_insurance_usd</th>\n",
       "    </tr>\n",
       "  </thead>\n",
       "  <tbody>\n",
       "    <tr>\n",
       "      <th>0</th>\n",
       "      <td>36203.0</td>\n",
       "      <td>Nigeria</td>\n",
       "      <td>PMO - US</td>\n",
       "      <td>Direct Drop</td>\n",
       "      <td>EXW</td>\n",
       "      <td>Air</td>\n",
       "      <td>1.0</td>\n",
       "      <td>Yes</td>\n",
       "      <td>HRDT</td>\n",
       "      <td>HIV test</td>\n",
       "      <td>...</td>\n",
       "      <td>2996.0</td>\n",
       "      <td>266644.00</td>\n",
       "      <td>89.00</td>\n",
       "      <td>0.89</td>\n",
       "      <td>Alere Medical Co., Ltd.</td>\n",
       "      <td>Yes</td>\n",
       "      <td>1426.0</td>\n",
       "      <td>33279.83</td>\n",
       "      <td>expensive</td>\n",
       "      <td>373.83</td>\n",
       "    </tr>\n",
       "    <tr>\n",
       "      <th>1</th>\n",
       "      <td>30998.0</td>\n",
       "      <td>Botswana</td>\n",
       "      <td>PMO - US</td>\n",
       "      <td>Direct Drop</td>\n",
       "      <td>EXW</td>\n",
       "      <td>Air</td>\n",
       "      <td>0.0</td>\n",
       "      <td>No</td>\n",
       "      <td>HRDT</td>\n",
       "      <td>HIV test</td>\n",
       "      <td>...</td>\n",
       "      <td>25.0</td>\n",
       "      <td>800.00</td>\n",
       "      <td>32.00</td>\n",
       "      <td>1.60</td>\n",
       "      <td>Trinity Biotech, Plc</td>\n",
       "      <td>Yes</td>\n",
       "      <td>10.0</td>\n",
       "      <td>559.89</td>\n",
       "      <td>reasonable</td>\n",
       "      <td>1.72</td>\n",
       "    </tr>\n",
       "    <tr>\n",
       "      <th>2</th>\n",
       "      <td>69871.0</td>\n",
       "      <td>Vietnam</td>\n",
       "      <td>PMO - US</td>\n",
       "      <td>Direct Drop</td>\n",
       "      <td>EXW</td>\n",
       "      <td>Air</td>\n",
       "      <td>0.0</td>\n",
       "      <td>No</td>\n",
       "      <td>ARV</td>\n",
       "      <td>Adult</td>\n",
       "      <td>...</td>\n",
       "      <td>22925.0</td>\n",
       "      <td>110040.00</td>\n",
       "      <td>4.80</td>\n",
       "      <td>0.08</td>\n",
       "      <td>Hetero Unit III Hyderabad IN</td>\n",
       "      <td>Yes</td>\n",
       "      <td>3723.0</td>\n",
       "      <td>19056.13</td>\n",
       "      <td>expensive</td>\n",
       "      <td>181.57</td>\n",
       "    </tr>\n",
       "    <tr>\n",
       "      <th>3</th>\n",
       "      <td>17648.0</td>\n",
       "      <td>South Africa</td>\n",
       "      <td>PMO - US</td>\n",
       "      <td>Direct Drop</td>\n",
       "      <td>DDP</td>\n",
       "      <td>Ocean</td>\n",
       "      <td>0.0</td>\n",
       "      <td>No</td>\n",
       "      <td>ARV</td>\n",
       "      <td>Adult</td>\n",
       "      <td>...</td>\n",
       "      <td>152535.0</td>\n",
       "      <td>361507.95</td>\n",
       "      <td>2.37</td>\n",
       "      <td>0.04</td>\n",
       "      <td>Aurobindo Unit III, India</td>\n",
       "      <td>Yes</td>\n",
       "      <td>7698.0</td>\n",
       "      <td>11372.23</td>\n",
       "      <td>expensive</td>\n",
       "      <td>779.41</td>\n",
       "    </tr>\n",
       "    <tr>\n",
       "      <th>4</th>\n",
       "      <td>5647.0</td>\n",
       "      <td>Uganda</td>\n",
       "      <td>PMO - US</td>\n",
       "      <td>Direct Drop</td>\n",
       "      <td>EXW</td>\n",
       "      <td>Air</td>\n",
       "      <td>0.0</td>\n",
       "      <td>No</td>\n",
       "      <td>HRDT</td>\n",
       "      <td>HIV test - Ancillary</td>\n",
       "      <td>...</td>\n",
       "      <td>850.0</td>\n",
       "      <td>8.50</td>\n",
       "      <td>0.01</td>\n",
       "      <td>0.00</td>\n",
       "      <td>Inverness Japan</td>\n",
       "      <td>Yes</td>\n",
       "      <td>56.0</td>\n",
       "      <td>360.00</td>\n",
       "      <td>reasonable</td>\n",
       "      <td>0.01</td>\n",
       "    </tr>\n",
       "  </tbody>\n",
       "</table>\n",
       "<p>5 rows × 27 columns</p>\n",
       "</div>"
      ],
      "text/plain": [
       "        id       country managed_by  fulfill_via vendor_inco_term  \\\n",
       "0  36203.0       Nigeria   PMO - US  Direct Drop              EXW   \n",
       "1  30998.0      Botswana   PMO - US  Direct Drop              EXW   \n",
       "2  69871.0       Vietnam   PMO - US  Direct Drop              EXW   \n",
       "3  17648.0  South Africa   PMO - US  Direct Drop              DDP   \n",
       "4   5647.0        Uganda   PMO - US  Direct Drop              EXW   \n",
       "\n",
       "  shipment_mode  late_delivery late product_group    sub_classification  ...  \\\n",
       "0           Air            1.0  Yes          HRDT              HIV test  ...   \n",
       "1           Air            0.0   No          HRDT              HIV test  ...   \n",
       "2           Air            0.0   No           ARV                 Adult  ...   \n",
       "3         Ocean            0.0   No           ARV                 Adult  ...   \n",
       "4           Air            0.0   No          HRDT  HIV test - Ancillary  ...   \n",
       "\n",
       "  line_item_quantity line_item_value pack_price unit_price  \\\n",
       "0             2996.0       266644.00      89.00       0.89   \n",
       "1               25.0          800.00      32.00       1.60   \n",
       "2            22925.0       110040.00       4.80       0.08   \n",
       "3           152535.0       361507.95       2.37       0.04   \n",
       "4              850.0            8.50       0.01       0.00   \n",
       "\n",
       "             manufacturing_site first_line_designation  weight_kilograms  \\\n",
       "0       Alere Medical Co., Ltd.                    Yes            1426.0   \n",
       "1          Trinity Biotech, Plc                    Yes              10.0   \n",
       "2  Hetero Unit III Hyderabad IN                    Yes            3723.0   \n",
       "3     Aurobindo Unit III, India                    Yes            7698.0   \n",
       "4               Inverness Japan                    Yes              56.0   \n",
       "\n",
       "   freight_cost_usd  freight_cost_groups  line_item_insurance_usd  \n",
       "0          33279.83            expensive                   373.83  \n",
       "1            559.89           reasonable                     1.72  \n",
       "2          19056.13            expensive                   181.57  \n",
       "3          11372.23            expensive                   779.41  \n",
       "4            360.00           reasonable                     0.01  \n",
       "\n",
       "[5 rows x 27 columns]"
      ]
     },
     "execution_count": 14,
     "metadata": {},
     "output_type": "execute_result"
    }
   ],
   "source": [
    "late_shipments.head()"
   ]
  },
  {
   "cell_type": "markdown",
   "id": "b200fb3c-232f-4af6-8eaf-d3de1dba102c",
   "metadata": {},
   "source": [
    "# ANOVA"
   ]
  },
  {
   "cell_type": "markdown",
   "id": "f21356cc-45e9-4b35-a101-2aae2c1605fd",
   "metadata": {},
   "source": [
    "data exploration first"
   ]
  },
  {
   "cell_type": "code",
   "execution_count": 18,
   "id": "81ff4838-a6ef-4ce6-9ee7-701364f45b24",
   "metadata": {},
   "outputs": [
    {
     "data": {
      "text/plain": [
       "shipment_mode\n",
       "Air            39.712395\n",
       "Air Charter     4.226667\n",
       "Ocean           6.432273\n",
       "Name: pack_price, dtype: float64"
      ]
     },
     "execution_count": 18,
     "metadata": {},
     "output_type": "execute_result"
    }
   ],
   "source": [
    "# find the avg pack price by shioments\n",
    "late_shipments.groupby('shipment_mode')['pack_price'].mean()"
   ]
  },
  {
   "cell_type": "code",
   "execution_count": 20,
   "id": "28cfb82d-4737-4fbe-b63e-a66a33601022",
   "metadata": {},
   "outputs": [
    {
     "data": {
      "text/plain": [
       "shipment_mode\n",
       "Air            48.932861\n",
       "Air Charter     0.992969\n",
       "Ocean           5.303047\n",
       "Name: pack_price, dtype: float64"
      ]
     },
     "execution_count": 20,
     "metadata": {},
     "output_type": "execute_result"
    }
   ],
   "source": [
    "# Group late_shipments by shipment_mode and calculate the standard deviation pack_price for each group\n",
    "late_shipments.groupby('shipment_mode')['pack_price'].std()"
   ]
  },
  {
   "cell_type": "code",
   "execution_count": 22,
   "id": "206cd764-ad8b-441c-910b-ba4f508caf7a",
   "metadata": {},
   "outputs": [
    {
     "data": {
      "text/plain": [
       "<Axes: xlabel='pack_price', ylabel='shipment_mode'>"
      ]
     },
     "execution_count": 22,
     "metadata": {},
     "output_type": "execute_result"
    },
    {
     "data": {
      "image/png": "[encoded data removed]",
      "text/plain": [
       "<Figure size 640x480 with 1 Axes>"
      ]
     },
     "metadata": {},
     "output_type": "display_data"
    }
   ],
   "source": [
    "# Create a boxplot from late_shipments with \"pack_price\" as x and \"shipment_mode\" as y\n",
    "import seaborn as sns\n",
    "import matplotlib.pyplot as plt\n",
    "\n",
    "sns.boxplot(data=late_shipments, x='pack_price', y='shipment_mode')\n"
   ]
  },
  {
   "cell_type": "code",
   "execution_count": 82,
   "id": "069586d0-55d7-4cec-a079-b10c83fe0170",
   "metadata": {},
   "outputs": [
    {
     "data": {
      "image/png": "[encoded data removed]",
      "text/plain": [
       "<Figure size 800x500 with 1 Axes>"
      ]
     },
     "metadata": {},
     "output_type": "display_data"
    }
   ],
   "source": [
    "import seaborn as sns\n",
    "import matplotlib.pyplot as plt\n",
    "\n",
    "plt.figure(figsize=(8, 5))\n",
    "ax = sns.kdeplot(\n",
    "    data=late_shipments,\n",
    "    x='pack_price',\n",
    "    hue='shipment_mode',\n",
    "    fill=False,          # No fill, just the curves\n",
    "    linewidth=2\n",
    ")\n",
    "plt.title('Price Distributions by Category')\n",
    "plt.xlabel('Price')\n",
    "plt.ylabel('Density')\n",
    "# Get the legend and set the title\n",
    "leg = ax.get_legend()\n",
    "leg.set_title('shipment_mode')\n",
    "plt.show()"
   ]
  },
  {
   "cell_type": "markdown",
   "id": "5c652ebd-c2cd-44c5-96f9-a079b1267b23",
   "metadata": {},
   "source": [
    "There's def a difference- but is the differene between the distribution of pack prices for each of the 3 shipments statistically significant? "
   ]
  },
  {
   "cell_type": "markdown",
   "id": "e472f202-dd91-4a5b-90cc-c1076af0a637",
   "metadata": {},
   "source": [
    "The box plots made it look like the distribution of pack price was different for each of the three shipment modes. However, it didn't tell us whether the mean pack price was different in each category. To determine that, we can use an ANOVA test. "
   ]
  },
  {
   "cell_type": "code",
   "execution_count": 26,
   "id": "571a3d6b-715b-4de3-9495-66945da81888",
   "metadata": {},
   "outputs": [
    {
     "data": {
      "text/html": [
       "<div>\n",
       "<style scoped>\n",
       "    .dataframe tbody tr th:only-of-type {\n",
       "        vertical-align: middle;\n",
       "    }\n",
       "\n",
       "    .dataframe tbody tr th {\n",
       "        vertical-align: top;\n",
       "    }\n",
       "\n",
       "    .dataframe thead th {\n",
       "        text-align: right;\n",
       "    }\n",
       "</style>\n",
       "<table border=\"1\" class=\"dataframe\">\n",
       "  <thead>\n",
       "    <tr style=\"text-align: right;\">\n",
       "      <th></th>\n",
       "      <th>Source</th>\n",
       "      <th>ddof1</th>\n",
       "      <th>ddof2</th>\n",
       "      <th>F</th>\n",
       "      <th>p-unc</th>\n",
       "      <th>np2</th>\n",
       "    </tr>\n",
       "  </thead>\n",
       "  <tbody>\n",
       "    <tr>\n",
       "      <th>0</th>\n",
       "      <td>shipment_mode</td>\n",
       "      <td>2</td>\n",
       "      <td>997</td>\n",
       "      <td>21.8646</td>\n",
       "      <td>5.089479e-10</td>\n",
       "      <td>0.042018</td>\n",
       "    </tr>\n",
       "  </tbody>\n",
       "</table>\n",
       "</div>"
      ],
      "text/plain": [
       "          Source  ddof1  ddof2        F         p-unc       np2\n",
       "0  shipment_mode      2    997  21.8646  5.089479e-10  0.042018"
      ]
     },
     "execution_count": 26,
     "metadata": {},
     "output_type": "execute_result"
    }
   ],
   "source": [
    "# H0: Pack prices for every category of shipment mode are the same.\n",
    "\n",
    "# HA: Pack prices for some categories of shipment mode are different\n",
    "import pingouin\n",
    "\n",
    "alpha = 0.1\n",
    "\n",
    "# Run an ANOVA for pack_price across shipment_mode\n",
    "anova_results = pingouin.anova(data=late_shipments, dv='pack_price', between='shipment_mode')\n",
    "\n",
    "anova_results\n"
   ]
  },
  {
   "cell_type": "markdown",
   "id": "ff3ef178-0bb6-479e-9836-d2b86c141f2e",
   "metadata": {},
   "source": [
    "There is a significant difference in pack prices between the shipment modes. However, we don't know which shipment modes this applies to.\n",
    "\n",
    "Enter Pairwise t-test..."
   ]
  },
  {
   "cell_type": "code",
   "execution_count": 29,
   "id": "8940f901-8af6-49ad-8f43-08cd095263b7",
   "metadata": {},
   "outputs": [
    {
     "data": {
      "text/html": [
       "<div>\n",
       "<style scoped>\n",
       "    .dataframe tbody tr th:only-of-type {\n",
       "        vertical-align: middle;\n",
       "    }\n",
       "\n",
       "    .dataframe tbody tr th {\n",
       "        vertical-align: top;\n",
       "    }\n",
       "\n",
       "    .dataframe thead th {\n",
       "        text-align: right;\n",
       "    }\n",
       "</style>\n",
       "<table border=\"1\" class=\"dataframe\">\n",
       "  <thead>\n",
       "    <tr style=\"text-align: right;\">\n",
       "      <th></th>\n",
       "      <th>Contrast</th>\n",
       "      <th>A</th>\n",
       "      <th>B</th>\n",
       "      <th>Paired</th>\n",
       "      <th>Parametric</th>\n",
       "      <th>T</th>\n",
       "      <th>dof</th>\n",
       "      <th>alternative</th>\n",
       "      <th>p-unc</th>\n",
       "      <th>p-corr</th>\n",
       "      <th>p-adjust</th>\n",
       "      <th>BF10</th>\n",
       "      <th>hedges</th>\n",
       "    </tr>\n",
       "  </thead>\n",
       "  <tbody>\n",
       "    <tr>\n",
       "      <th>0</th>\n",
       "      <td>shipment_mode</td>\n",
       "      <td>Air</td>\n",
       "      <td>Air Charter</td>\n",
       "      <td>False</td>\n",
       "      <td>True</td>\n",
       "      <td>21.179625</td>\n",
       "      <td>600.685682</td>\n",
       "      <td>two-sided</td>\n",
       "      <td>8.748346e-75</td>\n",
       "      <td>2.624504e-74</td>\n",
       "      <td>bonf</td>\n",
       "      <td>5.809e+76</td>\n",
       "      <td>0.726592</td>\n",
       "    </tr>\n",
       "    <tr>\n",
       "      <th>1</th>\n",
       "      <td>shipment_mode</td>\n",
       "      <td>Air</td>\n",
       "      <td>Ocean</td>\n",
       "      <td>False</td>\n",
       "      <td>True</td>\n",
       "      <td>19.335760</td>\n",
       "      <td>986.979785</td>\n",
       "      <td>two-sided</td>\n",
       "      <td>6.934555e-71</td>\n",
       "      <td>2.080367e-70</td>\n",
       "      <td>bonf</td>\n",
       "      <td>1.129e+67</td>\n",
       "      <td>0.711119</td>\n",
       "    </tr>\n",
       "    <tr>\n",
       "      <th>2</th>\n",
       "      <td>shipment_mode</td>\n",
       "      <td>Air Charter</td>\n",
       "      <td>Ocean</td>\n",
       "      <td>False</td>\n",
       "      <td>True</td>\n",
       "      <td>-3.170654</td>\n",
       "      <td>35.615026</td>\n",
       "      <td>two-sided</td>\n",
       "      <td>3.123012e-03</td>\n",
       "      <td>9.369037e-03</td>\n",
       "      <td>bonf</td>\n",
       "      <td>15.277</td>\n",
       "      <td>-0.423775</td>\n",
       "    </tr>\n",
       "  </tbody>\n",
       "</table>\n",
       "</div>"
      ],
      "text/plain": [
       "        Contrast            A            B  Paired  Parametric          T  \\\n",
       "0  shipment_mode          Air  Air Charter   False        True  21.179625   \n",
       "1  shipment_mode          Air        Ocean   False        True  19.335760   \n",
       "2  shipment_mode  Air Charter        Ocean   False        True  -3.170654   \n",
       "\n",
       "          dof alternative         p-unc        p-corr p-adjust       BF10  \\\n",
       "0  600.685682   two-sided  8.748346e-75  2.624504e-74     bonf  5.809e+76   \n",
       "1  986.979785   two-sided  6.934555e-71  2.080367e-70     bonf  1.129e+67   \n",
       "2   35.615026   two-sided  3.123012e-03  9.369037e-03     bonf     15.277   \n",
       "\n",
       "     hedges  \n",
       "0  0.726592  \n",
       "1  0.711119  \n",
       "2 -0.423775  "
      ]
     },
     "execution_count": 29,
     "metadata": {},
     "output_type": "execute_result"
    }
   ],
   "source": [
    "pingouin.pairwise_tests(data=late_shipments, \n",
    "                        dv='pack_price', \n",
    "                        between='shipment_mode', \n",
    "                        padjust='bonf')"
   ]
  },
  {
   "cell_type": "markdown",
   "id": "0c36d320-1503-4ea8-a5c7-d6c864090304",
   "metadata": {},
   "source": [
    "**Applying the Bonferroni adjustment shows the p-values (p-corr) for the t-tests between each of the three groups are all less than alpha (0.1), therefore we reject he null hypothesis that there is no difference between the groups**"
   ]
  },
  {
   "cell_type": "markdown",
   "id": "58bb3086-99ed-42f7-93a2-9aca11d88aad",
   "metadata": {},
   "source": [
    "**Summary:**\n",
    "\n",
    "ANOVA is used as an initial test to detect any overall differences among group means.\n",
    "Pairwise t-tests are used after ANOVA (if it is significant) to determine exactly which groups differ from each other."
   ]
  },
  {
   "cell_type": "code",
   "execution_count": null,
   "id": "a84262cf-9c8b-4626-b703-3413497969ab",
   "metadata": {},
   "outputs": [],
   "source": []
  },
  {
   "cell_type": "markdown",
   "id": "72d4f3ef-df86-4e58-8e16-c006afd65532",
   "metadata": {},
   "source": [
    "# More proportion testing"
   ]
  },
  {
   "cell_type": "markdown",
   "id": "f3077d7e-1b11-4d6a-85b7-6e73e89c8b41",
   "metadata": {},
   "source": [
    "**Instead of calulating a Z-score, couldn't you just compare a data point in question directly to the mean and standard deviation of the data set to get a sense of the outlierness?**\n",
    "\n",
    "Yes, you can get a general idea of how a data point compares to the mean and standard deviation by simply looking at its value relative to those numbers. For example, if you know the mean is 50 and the standard deviation is 10, and your data point is 70, you can see that it’s 20 units above the mean, or “about two standard deviations” away.\n",
    "\n",
    "However, the z score formalizes this comparison in a standardized way:\n",
    "\n",
    "Direct comparison (just looking at the numbers) gives you a rough sense, but it’s not always easy to interpret, especially if you’re comparing across different datasets with different means and standard deviations.\n",
    "Z score tells you exactly how many standard deviations away from the mean a value is, and puts everything on the same scale (mean = 0, standard deviation = 1). This makes it much easier to:\n",
    "Compare values from different datasets or distributions\n",
    "Identify outliers\n",
    "Use statistical tables and probability calculations\n",
    "Example:\n",
    "\n",
    "Dataset A: mean = 50, std = 10, value = 70 → z = (70-50)/10 = 2\n",
    "\n",
    "Dataset B: mean = 100, std = 20, value = 140 → z = (140-100)/20 = 2\n",
    "\n",
    "Even though the raw values are very different, both have a z score of 2, meaning they are both 2 standard deviations above their respective means.\n",
    "\n",
    "In summary:\n",
    "While you can get a sense by looking at the mean and standard deviation, the z score gives you a precise, standardized way to interpret and compare data points, especially across different contexts."
   ]
  },
  {
   "cell_type": "markdown",
   "id": "637472c7-6bf8-4e8b-9e33-4b9548389de7",
   "metadata": {},
   "source": [
    "# One-sample proportion tests"
   ]
  },
  {
   "cell_type": "code",
   "execution_count": 37,
   "id": "f8ca7f08-5a8a-4ebb-af1b-15b228d65ebe",
   "metadata": {},
   "outputs": [
    {
     "data": {
      "text/html": [
       "<div>\n",
       "<style scoped>\n",
       "    .dataframe tbody tr th:only-of-type {\n",
       "        vertical-align: middle;\n",
       "    }\n",
       "\n",
       "    .dataframe tbody tr th {\n",
       "        vertical-align: top;\n",
       "    }\n",
       "\n",
       "    .dataframe thead th {\n",
       "        text-align: right;\n",
       "    }\n",
       "</style>\n",
       "<table border=\"1\" class=\"dataframe\">\n",
       "  <thead>\n",
       "    <tr style=\"text-align: right;\">\n",
       "      <th></th>\n",
       "      <th>id</th>\n",
       "      <th>country</th>\n",
       "      <th>managed_by</th>\n",
       "      <th>fulfill_via</th>\n",
       "      <th>vendor_inco_term</th>\n",
       "      <th>shipment_mode</th>\n",
       "      <th>late_delivery</th>\n",
       "      <th>late</th>\n",
       "      <th>product_group</th>\n",
       "      <th>sub_classification</th>\n",
       "      <th>...</th>\n",
       "      <th>line_item_quantity</th>\n",
       "      <th>line_item_value</th>\n",
       "      <th>pack_price</th>\n",
       "      <th>unit_price</th>\n",
       "      <th>manufacturing_site</th>\n",
       "      <th>first_line_designation</th>\n",
       "      <th>weight_kilograms</th>\n",
       "      <th>freight_cost_usd</th>\n",
       "      <th>freight_cost_groups</th>\n",
       "      <th>line_item_insurance_usd</th>\n",
       "    </tr>\n",
       "  </thead>\n",
       "  <tbody>\n",
       "    <tr>\n",
       "      <th>0</th>\n",
       "      <td>36203.0</td>\n",
       "      <td>Nigeria</td>\n",
       "      <td>PMO - US</td>\n",
       "      <td>Direct Drop</td>\n",
       "      <td>EXW</td>\n",
       "      <td>Air</td>\n",
       "      <td>1.0</td>\n",
       "      <td>Yes</td>\n",
       "      <td>HRDT</td>\n",
       "      <td>HIV test</td>\n",
       "      <td>...</td>\n",
       "      <td>2996.0</td>\n",
       "      <td>266644.00</td>\n",
       "      <td>89.00</td>\n",
       "      <td>0.89</td>\n",
       "      <td>Alere Medical Co., Ltd.</td>\n",
       "      <td>Yes</td>\n",
       "      <td>1426.0</td>\n",
       "      <td>33279.83</td>\n",
       "      <td>expensive</td>\n",
       "      <td>373.83</td>\n",
       "    </tr>\n",
       "    <tr>\n",
       "      <th>1</th>\n",
       "      <td>30998.0</td>\n",
       "      <td>Botswana</td>\n",
       "      <td>PMO - US</td>\n",
       "      <td>Direct Drop</td>\n",
       "      <td>EXW</td>\n",
       "      <td>Air</td>\n",
       "      <td>0.0</td>\n",
       "      <td>No</td>\n",
       "      <td>HRDT</td>\n",
       "      <td>HIV test</td>\n",
       "      <td>...</td>\n",
       "      <td>25.0</td>\n",
       "      <td>800.00</td>\n",
       "      <td>32.00</td>\n",
       "      <td>1.60</td>\n",
       "      <td>Trinity Biotech, Plc</td>\n",
       "      <td>Yes</td>\n",
       "      <td>10.0</td>\n",
       "      <td>559.89</td>\n",
       "      <td>reasonable</td>\n",
       "      <td>1.72</td>\n",
       "    </tr>\n",
       "    <tr>\n",
       "      <th>2</th>\n",
       "      <td>69871.0</td>\n",
       "      <td>Vietnam</td>\n",
       "      <td>PMO - US</td>\n",
       "      <td>Direct Drop</td>\n",
       "      <td>EXW</td>\n",
       "      <td>Air</td>\n",
       "      <td>0.0</td>\n",
       "      <td>No</td>\n",
       "      <td>ARV</td>\n",
       "      <td>Adult</td>\n",
       "      <td>...</td>\n",
       "      <td>22925.0</td>\n",
       "      <td>110040.00</td>\n",
       "      <td>4.80</td>\n",
       "      <td>0.08</td>\n",
       "      <td>Hetero Unit III Hyderabad IN</td>\n",
       "      <td>Yes</td>\n",
       "      <td>3723.0</td>\n",
       "      <td>19056.13</td>\n",
       "      <td>expensive</td>\n",
       "      <td>181.57</td>\n",
       "    </tr>\n",
       "    <tr>\n",
       "      <th>3</th>\n",
       "      <td>17648.0</td>\n",
       "      <td>South Africa</td>\n",
       "      <td>PMO - US</td>\n",
       "      <td>Direct Drop</td>\n",
       "      <td>DDP</td>\n",
       "      <td>Ocean</td>\n",
       "      <td>0.0</td>\n",
       "      <td>No</td>\n",
       "      <td>ARV</td>\n",
       "      <td>Adult</td>\n",
       "      <td>...</td>\n",
       "      <td>152535.0</td>\n",
       "      <td>361507.95</td>\n",
       "      <td>2.37</td>\n",
       "      <td>0.04</td>\n",
       "      <td>Aurobindo Unit III, India</td>\n",
       "      <td>Yes</td>\n",
       "      <td>7698.0</td>\n",
       "      <td>11372.23</td>\n",
       "      <td>expensive</td>\n",
       "      <td>779.41</td>\n",
       "    </tr>\n",
       "    <tr>\n",
       "      <th>4</th>\n",
       "      <td>5647.0</td>\n",
       "      <td>Uganda</td>\n",
       "      <td>PMO - US</td>\n",
       "      <td>Direct Drop</td>\n",
       "      <td>EXW</td>\n",
       "      <td>Air</td>\n",
       "      <td>0.0</td>\n",
       "      <td>No</td>\n",
       "      <td>HRDT</td>\n",
       "      <td>HIV test - Ancillary</td>\n",
       "      <td>...</td>\n",
       "      <td>850.0</td>\n",
       "      <td>8.50</td>\n",
       "      <td>0.01</td>\n",
       "      <td>0.00</td>\n",
       "      <td>Inverness Japan</td>\n",
       "      <td>Yes</td>\n",
       "      <td>56.0</td>\n",
       "      <td>360.00</td>\n",
       "      <td>reasonable</td>\n",
       "      <td>0.01</td>\n",
       "    </tr>\n",
       "  </tbody>\n",
       "</table>\n",
       "<p>5 rows × 27 columns</p>\n",
       "</div>"
      ],
      "text/plain": [
       "        id       country managed_by  fulfill_via vendor_inco_term  \\\n",
       "0  36203.0       Nigeria   PMO - US  Direct Drop              EXW   \n",
       "1  30998.0      Botswana   PMO - US  Direct Drop              EXW   \n",
       "2  69871.0       Vietnam   PMO - US  Direct Drop              EXW   \n",
       "3  17648.0  South Africa   PMO - US  Direct Drop              DDP   \n",
       "4   5647.0        Uganda   PMO - US  Direct Drop              EXW   \n",
       "\n",
       "  shipment_mode  late_delivery late product_group    sub_classification  ...  \\\n",
       "0           Air            1.0  Yes          HRDT              HIV test  ...   \n",
       "1           Air            0.0   No          HRDT              HIV test  ...   \n",
       "2           Air            0.0   No           ARV                 Adult  ...   \n",
       "3         Ocean            0.0   No           ARV                 Adult  ...   \n",
       "4           Air            0.0   No          HRDT  HIV test - Ancillary  ...   \n",
       "\n",
       "  line_item_quantity line_item_value pack_price unit_price  \\\n",
       "0             2996.0       266644.00      89.00       0.89   \n",
       "1               25.0          800.00      32.00       1.60   \n",
       "2            22925.0       110040.00       4.80       0.08   \n",
       "3           152535.0       361507.95       2.37       0.04   \n",
       "4              850.0            8.50       0.01       0.00   \n",
       "\n",
       "             manufacturing_site first_line_designation  weight_kilograms  \\\n",
       "0       Alere Medical Co., Ltd.                    Yes            1426.0   \n",
       "1          Trinity Biotech, Plc                    Yes              10.0   \n",
       "2  Hetero Unit III Hyderabad IN                    Yes            3723.0   \n",
       "3     Aurobindo Unit III, India                    Yes            7698.0   \n",
       "4               Inverness Japan                    Yes              56.0   \n",
       "\n",
       "   freight_cost_usd  freight_cost_groups  line_item_insurance_usd  \n",
       "0          33279.83            expensive                   373.83  \n",
       "1            559.89           reasonable                     1.72  \n",
       "2          19056.13            expensive                   181.57  \n",
       "3          11372.23            expensive                   779.41  \n",
       "4            360.00           reasonable                     0.01  \n",
       "\n",
       "[5 rows x 27 columns]"
      ]
     },
     "execution_count": 37,
     "metadata": {},
     "output_type": "execute_result"
    }
   ],
   "source": [
    "late_shipments.head()"
   ]
  },
  {
   "cell_type": "code",
   "execution_count": 39,
   "id": "d9d7280b-f5a5-4254-bb98-feac1e63c2e5",
   "metadata": {},
   "outputs": [
    {
     "data": {
      "text/plain": [
       "late\n",
       "No     93.9\n",
       "Yes     6.1\n",
       "Name: proportion, dtype: float64"
      ]
     },
     "execution_count": 39,
     "metadata": {},
     "output_type": "execute_result"
    }
   ],
   "source": [
    "late_shipments['late'].value_counts(normalize=True).mul(100)"
   ]
  },
  {
   "cell_type": "markdown",
   "id": "dc5e7c92-ab47-443e-b8d5-53e48db410c9",
   "metadata": {},
   "source": [
    "**HA: proportion of late shipments is not 6%**\n",
    "\n",
    "**H0: proportion of late shipments is 6% (The true population proportion is equal to the hypothesized value.)**"
   ]
  },
  {
   "cell_type": "code",
   "execution_count": null,
   "id": "906430f6-294a-4a4c-acac-a77146c0bd5a",
   "metadata": {},
   "outputs": [],
   "source": []
  },
  {
   "cell_type": "code",
   "execution_count": 41,
   "id": "30b1b009-58de-4b24-bce4-15704a089354",
   "metadata": {},
   "outputs": [],
   "source": [
    "# Hypothesize that the proportion of late shipments is 6%\n",
    "p_0 = .06"
   ]
  },
  {
   "cell_type": "code",
   "execution_count": 43,
   "id": "d8d62b0e-2e7d-4caf-ba66-b097891bd447",
   "metadata": {},
   "outputs": [
    {
     "data": {
      "text/plain": [
       "0.061"
      ]
     },
     "execution_count": 43,
     "metadata": {},
     "output_type": "execute_result"
    }
   ],
   "source": [
    "# Calculate the sample proportion of late shipments\n",
    "p_hat = late_shipments['late_delivery'].mean()\n",
    "p_hat"
   ]
  },
  {
   "cell_type": "code",
   "execution_count": 45,
   "id": "9870baae-dec2-4216-8e5a-035fce92eb20",
   "metadata": {},
   "outputs": [
    {
     "data": {
      "text/plain": [
       "1000"
      ]
     },
     "execution_count": 45,
     "metadata": {},
     "output_type": "execute_result"
    }
   ],
   "source": [
    "# Calculate the sample size\n",
    "n = late_shipments['late'].count()\n",
    "n"
   ]
  },
  {
   "cell_type": "code",
   "execution_count": 47,
   "id": "68f66415-e846-4ef1-8084-004987d98259",
   "metadata": {},
   "outputs": [],
   "source": [
    "# Calculate the numerator and denominator of the test statistic\n",
    "import numpy as np\n",
    "\n",
    "numerator = p_hat - p_0\n",
    "denominator = np.sqrt(p_0 * (1-p_0)/n)"
   ]
  },
  {
   "cell_type": "code",
   "execution_count": 49,
   "id": "8ffc5517-09ed-4112-986a-873892493ff2",
   "metadata": {},
   "outputs": [
    {
     "data": {
      "text/plain": [
       "0.13315591032282698"
      ]
     },
     "execution_count": 49,
     "metadata": {},
     "output_type": "execute_result"
    }
   ],
   "source": [
    "# Calculate the test statistic\n",
    "z_score = numerator / denominator\n",
    "z_score\n",
    "# 0.13315591032282698 indicates the data point is very close to the mean"
   ]
  },
  {
   "cell_type": "code",
   "execution_count": 51,
   "id": "9bf5e4b0-8144-4f68-9108-a4a8e3e15318",
   "metadata": {},
   "outputs": [
    {
     "data": {
      "text/plain": [
       "0.44703503936503364"
      ]
     },
     "execution_count": 51,
     "metadata": {},
     "output_type": "execute_result"
    }
   ],
   "source": [
    "# Transform the z-score into a p-value, remembering that this is a \"greater than\" alternative hypothesis\n",
    "#from scipy.stats import norm\n",
    "#p_value = 1 - norm.cdf(z_score)\n",
    "#p_value"
   ]
  },
  {
   "cell_type": "code",
   "execution_count": 104,
   "id": "96f092a4-d0eb-41f6-8eca-60e36f026724",
   "metadata": {},
   "outputs": [
    {
     "data": {
      "text/plain": [
       "0.8940700787300673"
      ]
     },
     "execution_count": 104,
     "metadata": {},
     "output_type": "execute_result"
    }
   ],
   "source": [
    "# Transform the z-score into a p-value, remembering that this is a \"two-sided alternative hypothesis\n",
    "p_value = 2 * (1 - norm.cdf(abs(z_score)))\n",
    "p_value"
   ]
  },
  {
   "cell_type": "markdown",
   "id": "4d49f28c-1956-44e3-b036-f36dee304e10",
   "metadata": {},
   "source": [
    "**This means there is no evidence to suggest that the hypothesized proportion is significantly different from the known population proportion**"
   ]
  },
  {
   "cell_type": "code",
   "execution_count": 90,
   "id": "38702895-8cd8-4b0d-897b-571775aaa9ea",
   "metadata": {},
   "outputs": [
    {
     "data": {
      "text/plain": [
       "late\n",
       "No     939\n",
       "Yes     61\n",
       "Name: count, dtype: int64"
      ]
     },
     "execution_count": 90,
     "metadata": {},
     "output_type": "execute_result"
    }
   ],
   "source": [
    "late_shipments['late'].value_counts()"
   ]
  },
  {
   "cell_type": "code",
   "execution_count": 96,
   "id": "59923624-f8c6-4669-a937-4fb357cc4931",
   "metadata": {},
   "outputs": [
    {
     "name": "stdout",
     "output_type": "stream",
     "text": [
      "Z-statistic: 0.132\n",
      "P-value: 0.895\n"
     ]
    }
   ],
   "source": [
    "# now use statsmodels \n",
    "\n",
    "from statsmodels.stats.proportion import proportions_ztest\n",
    "\n",
    "count = 61       # Number of \"successes\" (e.g., late shipments)\n",
    "nobs = 1000      # Total number of observations (e.g., total shipments)\n",
    "value = .06        # Hypothesized population proportion\n",
    "\n",
    "z_stat, p_value = proportions_ztest(count, nobs, value=value, alternative='two-sided')\n",
    "\n",
    "print(f\"Z-statistic: {z_stat:.3f}\")\n",
    "print(f\"P-value: {p_value:.3f}\")"
   ]
  },
  {
   "cell_type": "code",
   "execution_count": 158,
   "id": "b9780496-a2db-4d3c-b4be-fd744c383452",
   "metadata": {},
   "outputs": [
    {
     "data": {
      "image/png": "[encoded data removed]",
      "text/plain": [
       "<Figure size 800x500 with 1 Axes>"
      ]
     },
     "metadata": {},
     "output_type": "display_data"
    }
   ],
   "source": [
    "# Plot the standard normal distribution\n",
    "x = np.linspace(-4, 4, 1000)\n",
    "y = norm.pdf(x)\n",
    "\n",
    "plt.figure(figsize=(8, 5))\n",
    "plt.plot(x, y, label='Standard Normal Distribution')\n",
    "\n",
    "# Mark the observed z-statistic\n",
    "plt.axvline(z_stat, color='red', linestyle='--', label=f'Observed z = {z_stat:.2f}')\n",
    "\n",
    "# (Optional) Shade the rejection region for two-sided test at alpha=0.05\n",
    "alpha = 0.05\n",
    "z_crit = norm.ppf(1 - alpha/2)\n",
    "plt.fill_between(x, 0, y, where=(x <= -z_crit) | (x >= z_crit), color='orange', alpha=0.3, label='Rejection Region (α=0.05)')\n",
    "\n",
    "plt.title('Sampling Distribution for Z Proportion Test')\n",
    "plt.xlabel('z')\n",
    "plt.ylabel('Probability Density')\n",
    "plt.legend()\n",
    "plt.show()"
   ]
  },
  {
   "cell_type": "markdown",
   "id": "30718f47-3d2e-4938-84b0-3dc6fa29cfc2",
   "metadata": {},
   "source": [
    "A one-sample proportion test is used when you want to determine if the proportion of a single sample is significantly different from a known or hypothesized population proportion. For example, you might test whether the proportion of late shipments in your company differs from an industry standard. 12\n",
    "\n",
    "A two-sample proportion test, on the other hand, is used to compare the proportions from two independent groups to see if there is a significant difference between them. For example, you might compare the proportion of late shipments between two different counties or time periods. 123\n",
    "\n",
    "Key differences:\n",
    "\n",
    "One-sample: Compares a sample proportion to a single known value. 12\n",
    "Two-sample: Compares proportions between two independent samples. 123\n",
    "Both tests use similar statistical methods (often a z-test), but the formulas and hypotheses differ based on whether you are comparing to a single value or between two groups"
   ]
  },
  {
   "cell_type": "markdown",
   "id": "b66f7c7a-bd2c-4795-9507-71f8a87926c6",
   "metadata": {},
   "source": [
    "# Two-sample proportion tests"
   ]
  },
  {
   "cell_type": "markdown",
   "id": "dfb9945f-f770-4734-8c56-907ac3f620ec",
   "metadata": {},
   "source": [
    "Does the amount paid for freight affect whether or not the shipment was late?\n",
    "\n",
    "H0: late_expensive - late_reasonable = 0\n",
    "\n",
    "HA: late_expensive - late_reasonable > 0"
   ]
  },
  {
   "cell_type": "code",
   "execution_count": 56,
   "id": "ac9e6250-f084-40c9-8fb2-38a413367953",
   "metadata": {},
   "outputs": [
    {
     "data": {
      "text/html": [
       "<div>\n",
       "<style scoped>\n",
       "    .dataframe tbody tr th:only-of-type {\n",
       "        vertical-align: middle;\n",
       "    }\n",
       "\n",
       "    .dataframe tbody tr th {\n",
       "        vertical-align: top;\n",
       "    }\n",
       "\n",
       "    .dataframe thead th {\n",
       "        text-align: right;\n",
       "    }\n",
       "</style>\n",
       "<table border=\"1\" class=\"dataframe\">\n",
       "  <thead>\n",
       "    <tr style=\"text-align: right;\">\n",
       "      <th></th>\n",
       "      <th>id</th>\n",
       "      <th>country</th>\n",
       "      <th>managed_by</th>\n",
       "      <th>fulfill_via</th>\n",
       "      <th>vendor_inco_term</th>\n",
       "      <th>shipment_mode</th>\n",
       "      <th>late_delivery</th>\n",
       "      <th>late</th>\n",
       "      <th>product_group</th>\n",
       "      <th>sub_classification</th>\n",
       "      <th>...</th>\n",
       "      <th>line_item_quantity</th>\n",
       "      <th>line_item_value</th>\n",
       "      <th>pack_price</th>\n",
       "      <th>unit_price</th>\n",
       "      <th>manufacturing_site</th>\n",
       "      <th>first_line_designation</th>\n",
       "      <th>weight_kilograms</th>\n",
       "      <th>freight_cost_usd</th>\n",
       "      <th>freight_cost_groups</th>\n",
       "      <th>line_item_insurance_usd</th>\n",
       "    </tr>\n",
       "  </thead>\n",
       "  <tbody>\n",
       "    <tr>\n",
       "      <th>0</th>\n",
       "      <td>36203.0</td>\n",
       "      <td>Nigeria</td>\n",
       "      <td>PMO - US</td>\n",
       "      <td>Direct Drop</td>\n",
       "      <td>EXW</td>\n",
       "      <td>Air</td>\n",
       "      <td>1.0</td>\n",
       "      <td>Yes</td>\n",
       "      <td>HRDT</td>\n",
       "      <td>HIV test</td>\n",
       "      <td>...</td>\n",
       "      <td>2996.0</td>\n",
       "      <td>266644.00</td>\n",
       "      <td>89.00</td>\n",
       "      <td>0.89</td>\n",
       "      <td>Alere Medical Co., Ltd.</td>\n",
       "      <td>Yes</td>\n",
       "      <td>1426.0</td>\n",
       "      <td>33279.83</td>\n",
       "      <td>expensive</td>\n",
       "      <td>373.83</td>\n",
       "    </tr>\n",
       "    <tr>\n",
       "      <th>44</th>\n",
       "      <td>65081.0</td>\n",
       "      <td>Vietnam</td>\n",
       "      <td>PMO - US</td>\n",
       "      <td>Direct Drop</td>\n",
       "      <td>EXW</td>\n",
       "      <td>Air</td>\n",
       "      <td>1.0</td>\n",
       "      <td>Yes</td>\n",
       "      <td>ARV</td>\n",
       "      <td>Adult</td>\n",
       "      <td>...</td>\n",
       "      <td>14016.0</td>\n",
       "      <td>147168.00</td>\n",
       "      <td>10.50</td>\n",
       "      <td>0.35</td>\n",
       "      <td>Hetero Unit III Hyderabad IN</td>\n",
       "      <td>Yes</td>\n",
       "      <td>1955.0</td>\n",
       "      <td>6194.69</td>\n",
       "      <td>expensive</td>\n",
       "      <td>151.29</td>\n",
       "    </tr>\n",
       "    <tr>\n",
       "      <th>65</th>\n",
       "      <td>13926.0</td>\n",
       "      <td>South Africa</td>\n",
       "      <td>PMO - US</td>\n",
       "      <td>Direct Drop</td>\n",
       "      <td>DDP</td>\n",
       "      <td>Air</td>\n",
       "      <td>1.0</td>\n",
       "      <td>Yes</td>\n",
       "      <td>ARV</td>\n",
       "      <td>Adult</td>\n",
       "      <td>...</td>\n",
       "      <td>19992.0</td>\n",
       "      <td>156337.44</td>\n",
       "      <td>7.82</td>\n",
       "      <td>0.26</td>\n",
       "      <td>Cipla, Goa, India</td>\n",
       "      <td>Yes</td>\n",
       "      <td>1378.0</td>\n",
       "      <td>3646.10</td>\n",
       "      <td>reasonable</td>\n",
       "      <td>337.06</td>\n",
       "    </tr>\n",
       "    <tr>\n",
       "      <th>68</th>\n",
       "      <td>25830.0</td>\n",
       "      <td>South Africa</td>\n",
       "      <td>PMO - US</td>\n",
       "      <td>Direct Drop</td>\n",
       "      <td>DDP</td>\n",
       "      <td>Air</td>\n",
       "      <td>1.0</td>\n",
       "      <td>Yes</td>\n",
       "      <td>ARV</td>\n",
       "      <td>Pediatric</td>\n",
       "      <td>...</td>\n",
       "      <td>11640.0</td>\n",
       "      <td>34920.00</td>\n",
       "      <td>3.00</td>\n",
       "      <td>0.01</td>\n",
       "      <td>Aurobindo Unit III, India</td>\n",
       "      <td>Yes</td>\n",
       "      <td>4386.0</td>\n",
       "      <td>12917.30</td>\n",
       "      <td>expensive</td>\n",
       "      <td>75.29</td>\n",
       "    </tr>\n",
       "    <tr>\n",
       "      <th>78</th>\n",
       "      <td>47625.0</td>\n",
       "      <td>South Africa</td>\n",
       "      <td>PMO - US</td>\n",
       "      <td>Direct Drop</td>\n",
       "      <td>DDP</td>\n",
       "      <td>Air</td>\n",
       "      <td>1.0</td>\n",
       "      <td>Yes</td>\n",
       "      <td>ARV</td>\n",
       "      <td>Adult</td>\n",
       "      <td>...</td>\n",
       "      <td>54247.0</td>\n",
       "      <td>424211.54</td>\n",
       "      <td>7.82</td>\n",
       "      <td>0.26</td>\n",
       "      <td>Cipla, Goa, India</td>\n",
       "      <td>Yes</td>\n",
       "      <td>3728.0</td>\n",
       "      <td>3646.13</td>\n",
       "      <td>reasonable</td>\n",
       "      <td>914.60</td>\n",
       "    </tr>\n",
       "  </tbody>\n",
       "</table>\n",
       "<p>5 rows × 27 columns</p>\n",
       "</div>"
      ],
      "text/plain": [
       "         id       country managed_by  fulfill_via vendor_inco_term  \\\n",
       "0   36203.0       Nigeria   PMO - US  Direct Drop              EXW   \n",
       "44  65081.0       Vietnam   PMO - US  Direct Drop              EXW   \n",
       "65  13926.0  South Africa   PMO - US  Direct Drop              DDP   \n",
       "68  25830.0  South Africa   PMO - US  Direct Drop              DDP   \n",
       "78  47625.0  South Africa   PMO - US  Direct Drop              DDP   \n",
       "\n",
       "   shipment_mode  late_delivery late product_group sub_classification  ...  \\\n",
       "0            Air            1.0  Yes          HRDT           HIV test  ...   \n",
       "44           Air            1.0  Yes           ARV              Adult  ...   \n",
       "65           Air            1.0  Yes           ARV              Adult  ...   \n",
       "68           Air            1.0  Yes           ARV          Pediatric  ...   \n",
       "78           Air            1.0  Yes           ARV              Adult  ...   \n",
       "\n",
       "   line_item_quantity line_item_value pack_price unit_price  \\\n",
       "0              2996.0       266644.00      89.00       0.89   \n",
       "44            14016.0       147168.00      10.50       0.35   \n",
       "65            19992.0       156337.44       7.82       0.26   \n",
       "68            11640.0        34920.00       3.00       0.01   \n",
       "78            54247.0       424211.54       7.82       0.26   \n",
       "\n",
       "              manufacturing_site first_line_designation  weight_kilograms  \\\n",
       "0        Alere Medical Co., Ltd.                    Yes            1426.0   \n",
       "44  Hetero Unit III Hyderabad IN                    Yes            1955.0   \n",
       "65             Cipla, Goa, India                    Yes            1378.0   \n",
       "68     Aurobindo Unit III, India                    Yes            4386.0   \n",
       "78             Cipla, Goa, India                    Yes            3728.0   \n",
       "\n",
       "    freight_cost_usd  freight_cost_groups  line_item_insurance_usd  \n",
       "0           33279.83            expensive                   373.83  \n",
       "44           6194.69            expensive                   151.29  \n",
       "65           3646.10           reasonable                   337.06  \n",
       "68          12917.30            expensive                    75.29  \n",
       "78           3646.13           reasonable                   914.60  \n",
       "\n",
       "[5 rows x 27 columns]"
      ]
     },
     "execution_count": 56,
     "metadata": {},
     "output_type": "execute_result"
    }
   ],
   "source": [
    "late = late_shipments[late_shipments['late'] == 'Yes']\n",
    "late.head()"
   ]
  },
  {
   "cell_type": "code",
   "execution_count": 58,
   "id": "172e7ea6-1cc1-4c95-9a3a-36703263b464",
   "metadata": {},
   "outputs": [
    {
     "data": {
      "text/plain": [
       "freight_cost_groups  late\n",
       "expensive            No      489\n",
       "                     Yes      42\n",
       "reasonable           No      439\n",
       "                     Yes      16\n",
       "Name: count, dtype: int64"
      ]
     },
     "execution_count": 58,
     "metadata": {},
     "output_type": "execute_result"
    }
   ],
   "source": [
    "# quick check\n",
    "late_shipments.groupby('freight_cost_groups')['late'].value_counts()"
   ]
  },
  {
   "cell_type": "code",
   "execution_count": 120,
   "id": "53341ca8-1067-4dca-809f-b6998600e3f6",
   "metadata": {},
   "outputs": [
    {
     "name": "stdout",
     "output_type": "stream",
     "text": [
      "z-score: 2.922648567784529 p_value: 0.0017353400023595788\n"
     ]
    }
   ],
   "source": [
    "from statsmodels.stats.proportion import proportions_ztest\n",
    "\n",
    "# Create an array of the \"Yes\" counts for each freight_cost_group\n",
    "success_counts = np.array([42, 16])\n",
    "\n",
    "# Create an array of the total number of rows in each freight_cost_group\n",
    "n = np.array([489+42, 439+16])\n",
    "\n",
    "# Run a z-test on the two proportions\n",
    "stat, p_value = proportions_ztest(count=success_counts,nobs=n, \n",
    "alternative='larger' )\n",
    "\n",
    "\n",
    "# Print the results\n",
    "print(\"z-score:\", stat, 'p_value:', p_value)"
   ]
  },
  {
   "cell_type": "markdown",
   "id": "303a13dc-b269-478c-866a-34487db0660c",
   "metadata": {},
   "source": [
    "# Chi-square test of independence\n",
    "\n",
    "Extending proportion testing to more than two groups.."
   ]
  },
  {
   "cell_type": "markdown",
   "id": "e937e81a-ff9a-4214-82d4-bdad3a3d6a0d",
   "metadata": {},
   "source": [
    "Perhaps the incoterms affect whether or not the freight costs are expensive. Test these hypotheses with a significance level of 0.01.\n",
    "\n",
    "H0: vendor_inco_term and freight_cost_group are independent.\n",
    "\n",
    "HA: vendor_inco_term and freight_cost_group are associated."
   ]
  },
  {
   "cell_type": "code",
   "execution_count": 112,
   "id": "79ed7d02-cfd2-4642-9ec8-18ff7a239833",
   "metadata": {},
   "outputs": [],
   "source": [
    "# Proportion of freight_cost_group grouped by vendor_inco_term\n",
    "props = late_shipments.groupby('vendor_inco_term')['freight_cost_groups'].value_counts(normalize=True)"
   ]
  },
  {
   "cell_type": "code",
   "execution_count": 114,
   "id": "9cc6229a-f4ed-45c1-9612-0482b9cce7f1",
   "metadata": {},
   "outputs": [
    {
     "data": {
      "text/plain": [
       "vendor_inco_term  freight_cost_groups\n",
       "CIP               reasonable             0.680000\n",
       "                  expensive              0.320000\n",
       "DDP               expensive              0.550000\n",
       "                  reasonable             0.450000\n",
       "DDU               reasonable             1.000000\n",
       "EXW               expensive              0.583448\n",
       "                  reasonable             0.416552\n",
       "FCA               reasonable             0.663636\n",
       "                  expensive              0.336364\n",
       "Name: proportion, dtype: float64"
      ]
     },
     "execution_count": 114,
     "metadata": {},
     "output_type": "execute_result"
    }
   ],
   "source": [
    "props"
   ]
  },
  {
   "cell_type": "code",
   "execution_count": 124,
   "id": "e85b6684-95c1-4334-869f-c11650c379a7",
   "metadata": {},
   "outputs": [
    {
     "data": {
      "text/html": [
       "<div>\n",
       "<style scoped>\n",
       "    .dataframe tbody tr th:only-of-type {\n",
       "        vertical-align: middle;\n",
       "    }\n",
       "\n",
       "    .dataframe tbody tr th {\n",
       "        vertical-align: top;\n",
       "    }\n",
       "\n",
       "    .dataframe thead th {\n",
       "        text-align: right;\n",
       "    }\n",
       "</style>\n",
       "<table border=\"1\" class=\"dataframe\">\n",
       "  <thead>\n",
       "    <tr style=\"text-align: right;\">\n",
       "      <th>freight_cost_groups</th>\n",
       "      <th>expensive</th>\n",
       "      <th>reasonable</th>\n",
       "    </tr>\n",
       "    <tr>\n",
       "      <th>vendor_inco_term</th>\n",
       "      <th></th>\n",
       "      <th></th>\n",
       "    </tr>\n",
       "  </thead>\n",
       "  <tbody>\n",
       "    <tr>\n",
       "      <th>CIP</th>\n",
       "      <td>0.320000</td>\n",
       "      <td>0.680000</td>\n",
       "    </tr>\n",
       "    <tr>\n",
       "      <th>DDP</th>\n",
       "      <td>0.550000</td>\n",
       "      <td>0.450000</td>\n",
       "    </tr>\n",
       "    <tr>\n",
       "      <th>DDU</th>\n",
       "      <td>NaN</td>\n",
       "      <td>1.000000</td>\n",
       "    </tr>\n",
       "    <tr>\n",
       "      <th>EXW</th>\n",
       "      <td>0.583448</td>\n",
       "      <td>0.416552</td>\n",
       "    </tr>\n",
       "    <tr>\n",
       "      <th>FCA</th>\n",
       "      <td>0.336364</td>\n",
       "      <td>0.663636</td>\n",
       "    </tr>\n",
       "  </tbody>\n",
       "</table>\n",
       "</div>"
      ],
      "text/plain": [
       "freight_cost_groups  expensive  reasonable\n",
       "vendor_inco_term                          \n",
       "CIP                   0.320000    0.680000\n",
       "DDP                   0.550000    0.450000\n",
       "DDU                        NaN    1.000000\n",
       "EXW                   0.583448    0.416552\n",
       "FCA                   0.336364    0.663636"
      ]
     },
     "execution_count": 124,
     "metadata": {},
     "output_type": "execute_result"
    }
   ],
   "source": [
    "wide_props = props.unstack()\n",
    "wide_props"
   ]
  },
  {
   "cell_type": "code",
   "execution_count": 134,
   "id": "b4c8fe17-7313-45b8-b536-75f81c13e2f0",
   "metadata": {
    "scrolled": true
   },
   "outputs": [
    {
     "data": {
      "text/plain": [
       "<Axes: xlabel='vendor_inco_term'>"
      ]
     },
     "execution_count": 134,
     "metadata": {},
     "output_type": "execute_result"
    },
    {
     "data": {
      "image/png": "[encoded data removed]",
      "text/plain": [
       "<Figure size 640x480 with 1 Axes>"
      ]
     },
     "metadata": {},
     "output_type": "display_data"
    }
   ],
   "source": [
    "# Proportional stacked bar plot of freight_cost_group vs. vendor_inco_term\n",
    "wide_props.plot(kind='bar', stacked=True)"
   ]
  },
  {
   "cell_type": "code",
   "execution_count": 150,
   "id": "d484c247-e12a-42f5-9374-7afc8e3ab3f3",
   "metadata": {},
   "outputs": [
    {
     "name": "stderr",
     "output_type": "stream",
     "text": [
      "/opt/anaconda3/lib/python3.12/site-packages/pingouin/contingency.py:151: UserWarning: Low count on observed frequencies.\n",
      "  warnings.warn(f\"Low count on {name} frequencies.\")\n",
      "/opt/anaconda3/lib/python3.12/site-packages/pingouin/contingency.py:151: UserWarning: Low count on expected frequencies.\n",
      "  warnings.warn(f\"Low count on {name} frequencies.\")\n",
      "/opt/anaconda3/lib/python3.12/site-packages/scipy/stats/_stats_py.py:7994: RuntimeWarning: divide by zero encountered in power\n",
      "  terms = f_obs * ((f_obs / f_exp)**lambda_ - 1)\n",
      "/opt/anaconda3/lib/python3.12/site-packages/scipy/stats/_stats_py.py:7994: RuntimeWarning: invalid value encountered in multiply\n",
      "  terms = f_obs * ((f_obs / f_exp)**lambda_ - 1)\n",
      "/opt/anaconda3/lib/python3.12/site-packages/scipy/stats/_stats_py.py:7991: RuntimeWarning: divide by zero encountered in divide\n",
      "  terms = 2.0 * special.xlogy(f_exp, f_exp / f_obs)\n"
     ]
    }
   ],
   "source": [
    "# Performing a chi-square test of independence\n",
    "import pingouin\n",
    "\n",
    "expected, observed, stats = pingouin.chi2_independence(data=late_shipments, x='vendor_inco_term',y='freight_cost_groups'  )"
   ]
  },
  {
   "cell_type": "code",
   "execution_count": 152,
   "id": "08984a8c-a1fd-4ca4-9e8d-75b59cad6c3b",
   "metadata": {},
   "outputs": [
    {
     "data": {
      "text/html": [
       "<div>\n",
       "<style scoped>\n",
       "    .dataframe tbody tr th:only-of-type {\n",
       "        vertical-align: middle;\n",
       "    }\n",
       "\n",
       "    .dataframe tbody tr th {\n",
       "        vertical-align: top;\n",
       "    }\n",
       "\n",
       "    .dataframe thead th {\n",
       "        text-align: right;\n",
       "    }\n",
       "</style>\n",
       "<table border=\"1\" class=\"dataframe\">\n",
       "  <thead>\n",
       "    <tr style=\"text-align: right;\">\n",
       "      <th></th>\n",
       "      <th>test</th>\n",
       "      <th>lambda</th>\n",
       "      <th>chi2</th>\n",
       "      <th>dof</th>\n",
       "      <th>pval</th>\n",
       "      <th>cramer</th>\n",
       "      <th>power</th>\n",
       "    </tr>\n",
       "  </thead>\n",
       "  <tbody>\n",
       "    <tr>\n",
       "      <th>0</th>\n",
       "      <td>pearson</td>\n",
       "      <td>1.000000</td>\n",
       "      <td>34.805072</td>\n",
       "      <td>4.0</td>\n",
       "      <td>5.093922e-07</td>\n",
       "      <td>0.186561</td>\n",
       "      <td>0.999235</td>\n",
       "    </tr>\n",
       "    <tr>\n",
       "      <th>1</th>\n",
       "      <td>cressie-read</td>\n",
       "      <td>0.666667</td>\n",
       "      <td>34.845134</td>\n",
       "      <td>4.0</td>\n",
       "      <td>4.998337e-07</td>\n",
       "      <td>0.186669</td>\n",
       "      <td>0.999244</td>\n",
       "    </tr>\n",
       "    <tr>\n",
       "      <th>2</th>\n",
       "      <td>log-likelihood</td>\n",
       "      <td>0.000000</td>\n",
       "      <td>35.442911</td>\n",
       "      <td>4.0</td>\n",
       "      <td>3.767119e-07</td>\n",
       "      <td>0.188263</td>\n",
       "      <td>0.999361</td>\n",
       "    </tr>\n",
       "    <tr>\n",
       "      <th>3</th>\n",
       "      <td>freeman-tukey</td>\n",
       "      <td>-0.500000</td>\n",
       "      <td>NaN</td>\n",
       "      <td>4.0</td>\n",
       "      <td>NaN</td>\n",
       "      <td>NaN</td>\n",
       "      <td>NaN</td>\n",
       "    </tr>\n",
       "    <tr>\n",
       "      <th>4</th>\n",
       "      <td>mod-log-likelihood</td>\n",
       "      <td>-1.000000</td>\n",
       "      <td>inf</td>\n",
       "      <td>4.0</td>\n",
       "      <td>0.000000e+00</td>\n",
       "      <td>inf</td>\n",
       "      <td>NaN</td>\n",
       "    </tr>\n",
       "    <tr>\n",
       "      <th>5</th>\n",
       "      <td>neyman</td>\n",
       "      <td>-2.000000</td>\n",
       "      <td>NaN</td>\n",
       "      <td>4.0</td>\n",
       "      <td>NaN</td>\n",
       "      <td>NaN</td>\n",
       "      <td>NaN</td>\n",
       "    </tr>\n",
       "  </tbody>\n",
       "</table>\n",
       "</div>"
      ],
      "text/plain": [
       "                 test    lambda       chi2  dof          pval    cramer  \\\n",
       "0             pearson  1.000000  34.805072  4.0  5.093922e-07  0.186561   \n",
       "1        cressie-read  0.666667  34.845134  4.0  4.998337e-07  0.186669   \n",
       "2      log-likelihood  0.000000  35.442911  4.0  3.767119e-07  0.188263   \n",
       "3       freeman-tukey -0.500000        NaN  4.0           NaN       NaN   \n",
       "4  mod-log-likelihood -1.000000        inf  4.0  0.000000e+00       inf   \n",
       "5              neyman -2.000000        NaN  4.0           NaN       NaN   \n",
       "\n",
       "      power  \n",
       "0  0.999235  \n",
       "1  0.999244  \n",
       "2  0.999361  \n",
       "3       NaN  \n",
       "4       NaN  \n",
       "5       NaN  "
      ]
     },
     "execution_count": 152,
     "metadata": {},
     "output_type": "execute_result"
    }
   ],
   "source": [
    "stats"
   ]
  },
  {
   "cell_type": "code",
   "execution_count": 154,
   "id": "58dc91c1-8908-4dbd-b79d-235d9f9717ef",
   "metadata": {},
   "outputs": [
    {
     "data": {
      "text/html": [
       "<div>\n",
       "<style scoped>\n",
       "    .dataframe tbody tr th:only-of-type {\n",
       "        vertical-align: middle;\n",
       "    }\n",
       "\n",
       "    .dataframe tbody tr th {\n",
       "        vertical-align: top;\n",
       "    }\n",
       "\n",
       "    .dataframe thead th {\n",
       "        text-align: right;\n",
       "    }\n",
       "</style>\n",
       "<table border=\"1\" class=\"dataframe\">\n",
       "  <thead>\n",
       "    <tr style=\"text-align: right;\">\n",
       "      <th></th>\n",
       "      <th>test</th>\n",
       "      <th>lambda</th>\n",
       "      <th>chi2</th>\n",
       "      <th>dof</th>\n",
       "      <th>pval</th>\n",
       "      <th>cramer</th>\n",
       "      <th>power</th>\n",
       "    </tr>\n",
       "  </thead>\n",
       "  <tbody>\n",
       "    <tr>\n",
       "      <th>0</th>\n",
       "      <td>pearson</td>\n",
       "      <td>1.0</td>\n",
       "      <td>34.805072</td>\n",
       "      <td>4.0</td>\n",
       "      <td>5.093922e-07</td>\n",
       "      <td>0.186561</td>\n",
       "      <td>0.999235</td>\n",
       "    </tr>\n",
       "  </tbody>\n",
       "</table>\n",
       "</div>"
      ],
      "text/plain": [
       "      test  lambda       chi2  dof          pval    cramer     power\n",
       "0  pearson     1.0  34.805072  4.0  5.093922e-07  0.186561  0.999235"
      ]
     },
     "execution_count": 154,
     "metadata": {},
     "output_type": "execute_result"
    }
   ],
   "source": [
    "stats[stats['test']  == 'pearson']"
   ]
  },
  {
   "cell_type": "markdown",
   "id": "062ac05f-1487-4416-9713-2ec38ff78add",
   "metadata": {},
   "source": [
    "# Assumptions in hypothesis testing\n",
    "\n",
    "- **Randomness**: Samples are randolm subsets of larger populations\n",
    "- **Independence** of observations: each row in the dataset is independent\n",
    "- **Sample size** large enough that central limit theorem to applies"
   ]
  },
  {
   "cell_type": "markdown",
   "id": "dcd68b14-e4d0-4813-b3fe-88b2ac3393fd",
   "metadata": {},
   "source": [
    "What does \"independent rows\" mean in practice?\n",
    "Suppose you have a dataset where each row represents a shipment, and you are testing the proportion of late shipments. Independence means:\n",
    "\n",
    "Whether one shipment is late or not does NOT affect whether another shipment is late or not.\n",
    "There is no systematic relationship or connection between the outcomes of different shipments in your sample.\n",
    "Why is this important?\n",
    "Statistical tests (like the z-test for proportions) rely on the assumption of independence to correctly estimate variability and calculate p-values.\n",
    "If the rows are not independent (for example, if shipments are grouped by the same customer, or if one late shipment causes others to be late), the test results may be invalid: p-values may be too small or too large, leading to incorrect conclusions."
   ]
  },
  {
   "cell_type": "markdown",
   "id": "7d1b953e-206d-4fb1-a331-608cf5ea5783",
   "metadata": {},
   "source": [
    "Examples\n",
    "\n",
    "**Independent rows**:\n",
    "\n",
    "Each shipment is from a different customer, on a different day, and processed separately.\n",
    "\n",
    "**Not independent**:\n",
    "\n",
    "Multiple rows are shipments from the same order or customer (clustered data).\n",
    "Shipments are processed in batches, and if one is late, the others in the batch are likely to be late too.\n",
    "There is a time trend or process that links the outcomes (e.g., a system outage causes many shipments to be late at once).\n"
   ]
  },
  {
   "cell_type": "code",
   "execution_count": null,
   "id": "e1c3f516-c2dd-4d31-85c2-d70d5a345c71",
   "metadata": {},
   "outputs": [],
   "source": []
  }
 ],
 "metadata": {
  "kernelspec": {
   "display_name": "Python 3 (ipykernel)",
   "language": "python",
   "name": "python3"
  },
  "language_info": {
   "codemirror_mode": {
    "name": "ipython",
    "version": 3
   },
   "file_extension": ".py",
   "mimetype": "text/x-python",
   "name": "python",
   "nbconvert_exporter": "python",
   "pygments_lexer": "ipython3",
   "version": "3.12.4"
  }
 },
 "nbformat": 4,
 "nbformat_minor": 5
}
